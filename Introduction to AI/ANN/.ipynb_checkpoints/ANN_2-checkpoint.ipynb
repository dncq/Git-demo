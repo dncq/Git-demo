{
 "cells": [
  {
   "cell_type": "code",
   "execution_count": null,
   "id": "46ea36d3",
   "metadata": {},
   "outputs": [],
   "source": []
  },
  {
   "cell_type": "markdown",
   "id": "99eb15ac",
   "metadata": {},
   "source": [
    "#                       Data preprocessing"
   ]
  },
  {
   "cell_type": "code",
   "execution_count": 4,
   "id": "fea91d73",
   "metadata": {
    "scrolled": true
   },
   "outputs": [],
   "source": [
    "# pip install emnist"
   ]
  },
  {
   "cell_type": "code",
   "execution_count": 11,
   "id": "74eccd27",
   "metadata": {},
   "outputs": [
    {
     "data": {
      "text/plain": [
       "['balanced', 'byclass', 'bymerge', 'digits', 'letters', 'mnist']"
      ]
     },
     "execution_count": 11,
     "metadata": {},
     "output_type": "execute_result"
    }
   ],
   "source": [
    "from emnist import list_datasets\n",
    "list_datasets()"
   ]
  },
  {
   "cell_type": "code",
   "execution_count": 12,
   "id": "065aaab6",
   "metadata": {},
   "outputs": [
    {
     "data": {
      "text/plain": [
       "(697932, 28, 28)"
      ]
     },
     "execution_count": 12,
     "metadata": {},
     "output_type": "execute_result"
    }
   ],
   "source": [
    "#Install EMNIST library, import datasets of letters, Matplotlib\n",
    "\n",
    "from emnist import list_datasets\n",
    "import matplotlib as mpl\n",
    "import matplotlib.pyplot as plt\n",
    "%matplotlib inline\n",
    "from emnist import extract_training_samples\n",
    "images, labels = extract_training_samples(\"byclass\")\n",
    "images.shape\n"
   ]
  },
  {
   "cell_type": "code",
   "execution_count": 13,
   "id": "8bc43a7e",
   "metadata": {},
   "outputs": [],
   "source": [
    "# #Let's print first letters from EMNIST training samples\n",
    "# sample_letter = images[0]\n",
    "# sample_letter_resize = sample_letter.reshape(28, 28)\n",
    "# plt.imshow(sample_letter_resize, cmap = 'binary')\n",
    "# plt.axis(\"off\")\n",
    "# plt.show()\n",
    "# #Let's print first 10 letters from EMINST training samples\n",
    "# for i in range(10,20):\n",
    "#     first_ten_letters = images[i].reshape((28, 28))\n",
    "#     plt.imshow(first_ten_letters, cmap = 'binary')\n",
    "#     #plt.axis(\"off\")\n",
    "#     plt.show()\n",
    "# # for j in range(5):\n",
    "# #     first_five_digits = images[i].reshape((28,28))\n",
    "# #     plt.imshow(first_five_digits, cmap = 'binary')\n",
    "# #     plt.show()"
   ]
  },
  {
   "cell_type": "code",
   "execution_count": 14,
   "id": "86afd858",
   "metadata": {
    "scrolled": false
   },
   "outputs": [
    {
     "name": "stdout",
     "output_type": "stream",
     "text": [
      "Training data shape:  (558345, 28, 28)\n",
      "Test data shape (139587, 28, 28)\n",
      "y_train.shape = (558345,)\n",
      "(558345, 784)\n",
      "(558345,)\n",
      "Model: \"sequential_1\"\n",
      "_________________________________________________________________\n",
      " Layer (type)                Output Shape              Param #   \n",
      "=================================================================\n",
      " dense_4 (Dense)             (None, 256)               200960    \n",
      "                                                                 \n",
      " dense_5 (Dense)             (None, 256)               65792     \n",
      "                                                                 \n",
      " dense_6 (Dense)             (None, 256)               65792     \n",
      "                                                                 \n",
      " dense_7 (Dense)             (None, 63)                16191     \n",
      "                                                                 \n",
      "=================================================================\n",
      "Total params: 348,735\n",
      "Trainable params: 348,735\n",
      "Non-trainable params: 0\n",
      "_________________________________________________________________\n",
      "Epoch 1/100\n",
      "15704/15704 [==============================] - 763s 48ms/step - loss: 1.1105 - accuracy: 0.6652 - val_loss: 0.9105 - val_accuracy: 0.7120\n",
      "Epoch 2/100\n",
      "15704/15704 [==============================] - 175s 11ms/step - loss: 0.8845 - accuracy: 0.7208 - val_loss: 0.8469 - val_accuracy: 0.7374\n",
      "Epoch 3/100\n",
      "15704/15704 [==============================] - 172s 11ms/step - loss: 0.8139 - accuracy: 0.7392 - val_loss: 0.7833 - val_accuracy: 0.7479\n",
      "Epoch 4/100\n",
      "15704/15704 [==============================] - 128s 8ms/step - loss: 0.7919 - accuracy: 0.7458 - val_loss: 0.7525 - val_accuracy: 0.7573\n",
      "Epoch 5/100\n",
      "15704/15704 [==============================] - 129s 8ms/step - loss: 0.7674 - accuracy: 0.7521 - val_loss: 0.7633 - val_accuracy: 0.7514\n",
      "Epoch 6/100\n",
      "15704/15704 [==============================] - 127s 8ms/step - loss: 0.7536 - accuracy: 0.7559 - val_loss: 0.7585 - val_accuracy: 0.7573\n",
      "Epoch 7/100\n",
      "15704/15704 [==============================] - 129s 8ms/step - loss: 0.7415 - accuracy: 0.7586 - val_loss: 0.7369 - val_accuracy: 0.7654\n",
      "Epoch 8/100\n",
      "15704/15704 [==============================] - 111s 7ms/step - loss: 0.7356 - accuracy: 0.7605 - val_loss: 0.7222 - val_accuracy: 0.7695\n",
      "Epoch 9/100\n",
      "15704/15704 [==============================] - 94s 6ms/step - loss: 0.7253 - accuracy: 0.7640 - val_loss: 0.7402 - val_accuracy: 0.7663\n",
      "Epoch 10/100\n",
      "15704/15704 [==============================] - 92s 6ms/step - loss: 0.7189 - accuracy: 0.7652 - val_loss: 0.7171 - val_accuracy: 0.7641\n",
      "Epoch 11/100\n",
      "15704/15704 [==============================] - 89s 6ms/step - loss: 0.7145 - accuracy: 0.7663 - val_loss: 0.6902 - val_accuracy: 0.7757\n",
      "Epoch 12/100\n",
      "15704/15704 [==============================] - 87s 6ms/step - loss: 0.7057 - accuracy: 0.7693 - val_loss: 0.6948 - val_accuracy: 0.7776\n",
      "Epoch 13/100\n",
      "15704/15704 [==============================] - 93s 6ms/step - loss: 0.7025 - accuracy: 0.7691 - val_loss: 0.7053 - val_accuracy: 0.7703\n",
      "Epoch 14/100\n",
      "15704/15704 [==============================] - 93s 6ms/step - loss: 0.7029 - accuracy: 0.7699 - val_loss: 0.6970 - val_accuracy: 0.7610\n",
      "Epoch 15/100\n",
      "15704/15704 [==============================] - 93s 6ms/step - loss: 0.6941 - accuracy: 0.7718 - val_loss: 0.7144 - val_accuracy: 0.7582\n",
      "Epoch 16/100\n",
      "15704/15704 [==============================] - 96s 6ms/step - loss: 0.6876 - accuracy: 0.7735 - val_loss: 0.6863 - val_accuracy: 0.7746\n",
      "Epoch 17/100\n",
      "15704/15704 [==============================] - 98s 6ms/step - loss: 0.6800 - accuracy: 0.7757 - val_loss: 0.6969 - val_accuracy: 0.7741\n",
      "Epoch 18/100\n",
      "15704/15704 [==============================] - 97s 6ms/step - loss: 0.6845 - accuracy: 0.7746 - val_loss: 0.6731 - val_accuracy: 0.7782\n",
      "Epoch 19/100\n",
      "15704/15704 [==============================] - 99s 6ms/step - loss: 0.6803 - accuracy: 0.7765 - val_loss: 0.6960 - val_accuracy: 0.7736\n",
      "Epoch 20/100\n",
      "15704/15704 [==============================] - 97s 6ms/step - loss: 0.6713 - accuracy: 0.7786 - val_loss: 0.6844 - val_accuracy: 0.7774\n",
      "Epoch 21/100\n",
      "15704/15704 [==============================] - 96s 6ms/step - loss: 0.6723 - accuracy: 0.7776 - val_loss: 0.6916 - val_accuracy: 0.7765\n",
      "Epoch 22/100\n",
      "15704/15704 [==============================] - 98s 6ms/step - loss: 0.6767 - accuracy: 0.7765 - val_loss: 0.7035 - val_accuracy: 0.7699\n",
      "Epoch 23/100\n",
      "15704/15704 [==============================] - 98s 6ms/step - loss: 0.6793 - accuracy: 0.7757 - val_loss: 0.6893 - val_accuracy: 0.7756\n",
      "Epoch 24/100\n",
      "15704/15704 [==============================] - 97s 6ms/step - loss: 0.6721 - accuracy: 0.7783 - val_loss: 0.6858 - val_accuracy: 0.7777\n",
      "Epoch 25/100\n",
      "15704/15704 [==============================] - 96s 6ms/step - loss: 0.6705 - accuracy: 0.7783 - val_loss: 0.6960 - val_accuracy: 0.7585\n",
      "Epoch 26/100\n",
      "15704/15704 [==============================] - 99s 6ms/step - loss: 0.6659 - accuracy: 0.7795 - val_loss: 0.6539 - val_accuracy: 0.7849\n",
      "Epoch 27/100\n",
      "15704/15704 [==============================] - 108s 7ms/step - loss: 0.6665 - accuracy: 0.7795 - val_loss: 0.6696 - val_accuracy: 0.7843\n",
      "Epoch 28/100\n",
      "15704/15704 [==============================] - 110s 7ms/step - loss: 0.6675 - accuracy: 0.7801 - val_loss: 0.6605 - val_accuracy: 0.7836\n",
      "Epoch 29/100\n",
      "15704/15704 [==============================] - 104s 7ms/step - loss: 0.6653 - accuracy: 0.7799 - val_loss: 0.6770 - val_accuracy: 0.7740\n",
      "Epoch 30/100\n",
      "15704/15704 [==============================] - 105s 7ms/step - loss: 0.6668 - accuracy: 0.7793 - val_loss: 0.6922 - val_accuracy: 0.7777\n",
      "Epoch 31/100\n",
      "15704/15704 [==============================] - 107s 7ms/step - loss: 0.6675 - accuracy: 0.7797 - val_loss: 0.6727 - val_accuracy: 0.7786\n",
      "Epoch 32/100\n",
      "15704/15704 [==============================] - 110s 7ms/step - loss: 0.6597 - accuracy: 0.7815 - val_loss: 0.6919 - val_accuracy: 0.7754\n",
      "Epoch 33/100\n",
      "15704/15704 [==============================] - 108s 7ms/step - loss: 0.6599 - accuracy: 0.7810 - val_loss: 0.6819 - val_accuracy: 0.7824\n",
      "Epoch 34/100\n",
      "15704/15704 [==============================] - 110s 7ms/step - loss: 0.6602 - accuracy: 0.7817 - val_loss: 0.6960 - val_accuracy: 0.7782\n",
      "Epoch 35/100\n",
      "15704/15704 [==============================] - 110s 7ms/step - loss: 0.6628 - accuracy: 0.7809 - val_loss: 0.6749 - val_accuracy: 0.7770\n",
      "Epoch 36/100\n",
      "15704/15704 [==============================] - 109s 7ms/step - loss: 0.6595 - accuracy: 0.7821 - val_loss: 0.6867 - val_accuracy: 0.7754\n",
      "Epoch 37/100\n",
      "15704/15704 [==============================] - 111s 7ms/step - loss: 0.6593 - accuracy: 0.7816 - val_loss: 0.6593 - val_accuracy: 0.7855\n",
      "Epoch 38/100\n",
      "15704/15704 [==============================] - 110s 7ms/step - loss: 0.6545 - accuracy: 0.7827 - val_loss: 0.6836 - val_accuracy: 0.7785\n",
      "Epoch 39/100\n",
      "15704/15704 [==============================] - 111s 7ms/step - loss: 0.6569 - accuracy: 0.7828 - val_loss: 0.6709 - val_accuracy: 0.7763\n",
      "Epoch 40/100\n",
      "15704/15704 [==============================] - 107s 7ms/step - loss: 0.6563 - accuracy: 0.7822 - val_loss: 0.6711 - val_accuracy: 0.7760\n",
      "Epoch 41/100\n",
      "15704/15704 [==============================] - 114s 7ms/step - loss: 0.6513 - accuracy: 0.7839 - val_loss: 0.6564 - val_accuracy: 0.7890\n",
      "Epoch 42/100\n",
      "15704/15704 [==============================] - 112s 7ms/step - loss: 0.6498 - accuracy: 0.7841 - val_loss: 0.6637 - val_accuracy: 0.7785\n",
      "Epoch 43/100\n",
      "15704/15704 [==============================] - 115s 7ms/step - loss: 0.6472 - accuracy: 0.7852 - val_loss: 0.6823 - val_accuracy: 0.7762\n",
      "Epoch 44/100\n",
      "15704/15704 [==============================] - 115s 7ms/step - loss: 0.6491 - accuracy: 0.7849 - val_loss: 0.6890 - val_accuracy: 0.7705\n",
      "Epoch 45/100\n",
      "15704/15704 [==============================] - 112s 7ms/step - loss: 0.6462 - accuracy: 0.7859 - val_loss: 0.6573 - val_accuracy: 0.7900\n",
      "Epoch 46/100\n",
      "15704/15704 [==============================] - 110s 7ms/step - loss: 0.6427 - accuracy: 0.7864 - val_loss: 0.6579 - val_accuracy: 0.7869\n",
      "Epoch 47/100\n",
      "15704/15704 [==============================] - 115s 7ms/step - loss: 0.6412 - accuracy: 0.7869 - val_loss: 0.6651 - val_accuracy: 0.7848\n",
      "Epoch 48/100\n"
     ]
    },
    {
     "name": "stdout",
     "output_type": "stream",
     "text": [
      "15704/15704 [==============================] - 112s 7ms/step - loss: 0.6396 - accuracy: 0.7873 - val_loss: 0.6567 - val_accuracy: 0.7825\n",
      "Epoch 49/100\n",
      "15704/15704 [==============================] - 111s 7ms/step - loss: 0.6440 - accuracy: 0.7855 - val_loss: 0.6710 - val_accuracy: 0.7809\n",
      "Epoch 50/100\n",
      "15704/15704 [==============================] - 115s 7ms/step - loss: 0.6432 - accuracy: 0.7861 - val_loss: 0.6547 - val_accuracy: 0.7877\n",
      "Epoch 51/100\n",
      "15704/15704 [==============================] - 115s 7ms/step - loss: 0.6400 - accuracy: 0.7872 - val_loss: 0.6833 - val_accuracy: 0.7717\n",
      "Epoch 52/100\n",
      "15704/15704 [==============================] - 115s 7ms/step - loss: 0.6396 - accuracy: 0.7875 - val_loss: 0.6699 - val_accuracy: 0.7868\n",
      "Epoch 53/100\n",
      "15704/15704 [==============================] - 115s 7ms/step - loss: 0.6419 - accuracy: 0.7867 - val_loss: 0.6762 - val_accuracy: 0.7891\n",
      "Epoch 54/100\n",
      "15704/15704 [==============================] - 112s 7ms/step - loss: 0.6429 - accuracy: 0.7862 - val_loss: 0.6608 - val_accuracy: 0.7838\n",
      "Epoch 55/100\n",
      "15704/15704 [==============================] - 108s 7ms/step - loss: 0.6437 - accuracy: 0.7863 - val_loss: 0.6710 - val_accuracy: 0.7822\n",
      "Epoch 56/100\n",
      "15704/15704 [==============================] - 107s 7ms/step - loss: 0.6381 - accuracy: 0.7877 - val_loss: 0.6469 - val_accuracy: 0.7882\n",
      "Epoch 57/100\n",
      "15704/15704 [==============================] - 110s 7ms/step - loss: 0.6378 - accuracy: 0.7875 - val_loss: 0.6741 - val_accuracy: 0.7799\n",
      "Epoch 58/100\n",
      "15704/15704 [==============================] - 112s 7ms/step - loss: 0.6415 - accuracy: 0.7863 - val_loss: 0.6385 - val_accuracy: 0.7898\n",
      "Epoch 59/100\n",
      "15704/15704 [==============================] - 101s 6ms/step - loss: 0.6404 - accuracy: 0.7866 - val_loss: 0.6734 - val_accuracy: 0.7817\n",
      "Epoch 60/100\n",
      "15704/15704 [==============================] - 101s 6ms/step - loss: 0.6365 - accuracy: 0.7878 - val_loss: 0.6698 - val_accuracy: 0.7655\n",
      "Epoch 61/100\n",
      "15704/15704 [==============================] - 100s 6ms/step - loss: 0.6360 - accuracy: 0.7881 - val_loss: 0.6538 - val_accuracy: 0.7827\n",
      "Epoch 62/100\n",
      "15704/15704 [==============================] - 103s 7ms/step - loss: 0.6372 - accuracy: 0.7882 - val_loss: 0.6374 - val_accuracy: 0.7889\n",
      "Epoch 63/100\n",
      "15704/15704 [==============================] - 118s 8ms/step - loss: 0.6345 - accuracy: 0.7879 - val_loss: 0.6450 - val_accuracy: 0.7913\n",
      "Epoch 64/100\n",
      "15704/15704 [==============================] - 117s 7ms/step - loss: 0.6357 - accuracy: 0.7889 - val_loss: 0.6403 - val_accuracy: 0.7803\n",
      "Epoch 65/100\n",
      "15704/15704 [==============================] - 106s 7ms/step - loss: 0.6353 - accuracy: 0.7887 - val_loss: 0.6479 - val_accuracy: 0.7859\n",
      "Epoch 66/100\n",
      "15704/15704 [==============================] - 111s 7ms/step - loss: 0.6320 - accuracy: 0.7897 - val_loss: 0.6535 - val_accuracy: 0.7849\n",
      "Epoch 67/100\n",
      "15704/15704 [==============================] - 118s 7ms/step - loss: 0.6294 - accuracy: 0.7902 - val_loss: 0.6338 - val_accuracy: 0.7949\n",
      "Epoch 68/100\n",
      "15704/15704 [==============================] - 111s 7ms/step - loss: 0.6290 - accuracy: 0.7897 - val_loss: 0.6394 - val_accuracy: 0.7869\n",
      "Epoch 69/100\n",
      "15704/15704 [==============================] - 105s 7ms/step - loss: 0.6276 - accuracy: 0.7905 - val_loss: 0.6419 - val_accuracy: 0.7925\n",
      "Epoch 70/100\n",
      "15704/15704 [==============================] - 106s 7ms/step - loss: 0.6269 - accuracy: 0.7908 - val_loss: 0.6356 - val_accuracy: 0.7887\n",
      "Epoch 71/100\n",
      "15704/15704 [==============================] - 103s 7ms/step - loss: 0.6268 - accuracy: 0.7910 - val_loss: 0.6449 - val_accuracy: 0.7905\n",
      "Epoch 72/100\n",
      "15704/15704 [==============================] - 100s 6ms/step - loss: 0.6270 - accuracy: 0.7906 - val_loss: 0.6514 - val_accuracy: 0.7890\n",
      "Epoch 73/100\n",
      "15704/15704 [==============================] - 101s 6ms/step - loss: 0.6283 - accuracy: 0.7908 - val_loss: 0.6379 - val_accuracy: 0.7885\n",
      "Epoch 74/100\n",
      "15704/15704 [==============================] - 85s 5ms/step - loss: 0.6299 - accuracy: 0.7900 - val_loss: 0.6594 - val_accuracy: 0.7818\n",
      "Epoch 75/100\n",
      "15704/15704 [==============================] - 81s 5ms/step - loss: 0.6262 - accuracy: 0.7911 - val_loss: 0.6620 - val_accuracy: 0.7872\n",
      "Epoch 76/100\n",
      "15704/15704 [==============================] - 80s 5ms/step - loss: 0.6262 - accuracy: 0.7907 - val_loss: 0.6474 - val_accuracy: 0.7908\n",
      "Epoch 77/100\n",
      "15704/15704 [==============================] - 85s 5ms/step - loss: 0.6299 - accuracy: 0.7899 - val_loss: 0.6691 - val_accuracy: 0.7836\n",
      "Epoch 78/100\n",
      "15704/15704 [==============================] - 99s 6ms/step - loss: 0.6274 - accuracy: 0.7901 - val_loss: 0.6599 - val_accuracy: 0.7893\n",
      "Epoch 79/100\n",
      "15704/15704 [==============================] - 88s 6ms/step - loss: 0.6264 - accuracy: 0.7909 - val_loss: 0.6551 - val_accuracy: 0.7839\n",
      "Epoch 80/100\n",
      "15704/15704 [==============================] - 92s 6ms/step - loss: 0.6242 - accuracy: 0.7913 - val_loss: 0.6467 - val_accuracy: 0.7902\n",
      "Epoch 81/100\n",
      "15704/15704 [==============================] - 90s 6ms/step - loss: 0.6237 - accuracy: 0.7922 - val_loss: 0.6298 - val_accuracy: 0.7944\n",
      "Epoch 82/100\n",
      "15704/15704 [==============================] - 85s 5ms/step - loss: 0.6227 - accuracy: 0.7912 - val_loss: 0.6421 - val_accuracy: 0.7848\n",
      "Epoch 83/100\n",
      "15704/15704 [==============================] - 96s 6ms/step - loss: 0.6233 - accuracy: 0.7908 - val_loss: 0.6338 - val_accuracy: 0.7958\n",
      "Epoch 84/100\n",
      "15704/15704 [==============================] - 85s 5ms/step - loss: 0.6218 - accuracy: 0.7922 - val_loss: 0.6416 - val_accuracy: 0.7924\n",
      "Epoch 85/100\n",
      "15704/15704 [==============================] - 89s 6ms/step - loss: 0.6237 - accuracy: 0.7917 - val_loss: 0.6453 - val_accuracy: 0.7889\n",
      "Epoch 86/100\n",
      "15704/15704 [==============================] - 92s 6ms/step - loss: 0.6226 - accuracy: 0.7920 - val_loss: 0.6390 - val_accuracy: 0.7899\n",
      "Epoch 87/100\n",
      "15704/15704 [==============================] - 99s 6ms/step - loss: 0.6228 - accuracy: 0.7919 - val_loss: 0.6619 - val_accuracy: 0.7791\n",
      "Epoch 88/100\n",
      "15704/15704 [==============================] - 98s 6ms/step - loss: 0.6185 - accuracy: 0.7927 - val_loss: 0.6275 - val_accuracy: 0.7955\n",
      "Epoch 89/100\n",
      "15704/15704 [==============================] - 100s 6ms/step - loss: 0.6169 - accuracy: 0.7931 - val_loss: 0.6324 - val_accuracy: 0.7905\n",
      "Epoch 90/100\n",
      "15704/15704 [==============================] - 100s 6ms/step - loss: 0.6175 - accuracy: 0.7932 - val_loss: 0.6531 - val_accuracy: 0.7922\n",
      "Epoch 91/100\n",
      "15704/15704 [==============================] - 102s 6ms/step - loss: 0.6190 - accuracy: 0.7929 - val_loss: 0.6595 - val_accuracy: 0.7824\n",
      "Epoch 92/100\n",
      "15704/15704 [==============================] - 112s 7ms/step - loss: 0.6218 - accuracy: 0.7922 - val_loss: 0.6292 - val_accuracy: 0.7936\n",
      "Epoch 93/100\n",
      "15704/15704 [==============================] - 110s 7ms/step - loss: 0.6180 - accuracy: 0.7934 - val_loss: 0.6440 - val_accuracy: 0.7950\n",
      "Epoch 94/100\n",
      "15704/15704 [==============================] - 106s 7ms/step - loss: 0.6179 - accuracy: 0.7931 - val_loss: 0.6725 - val_accuracy: 0.7817\n",
      "Epoch 95/100\n",
      "15704/15704 [==============================] - 109s 7ms/step - loss: 0.6213 - accuracy: 0.7932 - val_loss: 0.6346 - val_accuracy: 0.7920\n",
      "Epoch 96/100\n",
      "15704/15704 [==============================] - 103s 7ms/step - loss: 0.6203 - accuracy: 0.7928 - val_loss: 0.6160 - val_accuracy: 0.7999\n",
      "Epoch 97/100\n",
      "15704/15704 [==============================] - 107s 7ms/step - loss: 0.6214 - accuracy: 0.7919 - val_loss: 0.6321 - val_accuracy: 0.7963\n",
      "Epoch 98/100\n",
      "15704/15704 [==============================] - 112s 7ms/step - loss: 0.6164 - accuracy: 0.7939 - val_loss: 0.6452 - val_accuracy: 0.7867\n",
      "Epoch 99/100\n",
      "15704/15704 [==============================] - 115s 7ms/step - loss: 0.6206 - accuracy: 0.7929 - val_loss: 0.6298 - val_accuracy: 0.7945\n",
      "Epoch 100/100\n",
      "15704/15704 [==============================] - 112s 7ms/step - loss: 0.6191 - accuracy: 0.7930 - val_loss: 0.6238 - val_accuracy: 0.7976\n",
      "4363/4363 [==============================] - 18s 4ms/step - loss: 0.6194 - accuracy: 0.7993\n"
     ]
    },
    {
     "data": {
      "image/png": "[encoded data removed]",
      "text/plain": [
       "<Figure size 432x288 with 1 Axes>"
      ]
     },
     "metadata": {
      "needs_background": "light"
     },
     "output_type": "display_data"
    },
    {
     "name": "stdout",
     "output_type": "stream",
     "text": [
      "Test loss: 0.619\n"
     ]
    }
   ],
   "source": [
    "import keras\n",
    "import tensorflow as tf\n",
    "from keras.datasets import mnist\n",
    "from keras.layers import Dense # Dense layers are \"fully connected\" layers\n",
    "from keras.models import Sequential # Documentation: https://keras.io/models/sequential/\n",
    "import matplotlib.pyplot as plt\n",
    "from sklearn.model_selection import train_test_split\n",
    "my_data = images\n",
    "my_label = labels\n",
    "x_train, x_test,y_train, y_test = train_test_split(my_data,my_label,test_size = 0.2, random_state = 365)\n",
    "print(\"Training data shape: \", x_train.shape) # (60000, 28, 28) -- 60000 images, each 28x28 pixels\n",
    "print(\"Test data shape\", x_test.shape) # (10000, 28, 28) -- 10000 images, each 28x28\n",
    "print(\"y_train.shape =\",y_train.shape)\n",
    "# Flatten the images\n",
    "image_vector_size = 28*28\n",
    "x_train = x_train.reshape(x_train.shape[0], image_vector_size)\n",
    "x_test = x_test.reshape(x_test.shape[0], image_vector_size)\n",
    "\n",
    "image_size = 28*28 # 28*28\n",
    "num_classes = 62 # ten unique digits\n",
    "\n",
    "print(x_train.shape)\n",
    "print(y_train.shape)\n",
    "\n",
    "model = Sequential()\n",
    "\n",
    "# The input layer requires the special input_shape parameter which should match\n",
    "# the shape of our training data.\n",
    "model.add(Dense(units= 256, activation='relu', input_shape=(image_size,)))\n",
    "model.add(Dense(units = 256, activation=\"softplus\"))\n",
    "model.add(Dense(units = 256, activation=\"elu\"))\n",
    "model.add(Dense(units=num_classes+1, activation='softmax'))\n",
    "\n",
    "model.summary()\n",
    "\n",
    "# x_train = x_train.reshape(x_train.shape[0], image_vector_size)\n",
    "# x_test = x_test.reshape(x_test.shape[0], image_vector_size)\n",
    "\n",
    "\n",
    "model.compile(optimizer=\"adam\", loss=\"sparse_categorical_crossentropy\", metrics=['accuracy'])\n",
    "history = model.fit(x_train, y_train, batch_size=32, epochs=100, verbose=True, validation_split=.1)\n",
    "loss, accuracy  = model.evaluate(x_test, y_test, verbose=True)\n",
    "\n",
    "plt.plot(history.history['accuracy'])\n",
    "plt.plot(history.history['val_accuracy'])\n",
    "plt.title('model accuracy')\n",
    "plt.ylabel('accuracy')\n",
    "plt.xlabel('epoch')\n",
    "plt.legend(['training', 'validation'], loc='best')\n",
    "plt.show()\n",
    "\n",
    "print(f'Test loss: {loss:.3}')"
   ]
  },
  {
   "cell_type": "code",
   "execution_count": 15,
   "id": "320b4d25",
   "metadata": {},
   "outputs": [],
   "source": [
    "import pickle\n",
    "with open('test_data.pickle','wb') as file:\n",
    "    pickle.dump(my_data, file)"
   ]
  },
  {
   "cell_type": "code",
   "execution_count": 16,
   "id": "ae17a6df",
   "metadata": {},
   "outputs": [],
   "source": [
    "with open('test_label.pickle','wb') as file:\n",
    "    pickle.dump(my_label, file)"
   ]
  },
  {
   "cell_type": "code",
   "execution_count": null,
   "id": "8afced58",
   "metadata": {},
   "outputs": [],
   "source": [
    "#starting time: 9h15pm\n",
    "#ending time: 12h25pm"
   ]
  },
  {
   "cell_type": "code",
   "execution_count": null,
   "id": "2b276e16",
   "metadata": {},
   "outputs": [],
   "source": []
  },
  {
   "cell_type": "code",
   "execution_count": null,
   "id": "6f84e9cd",
   "metadata": {},
   "outputs": [],
   "source": []
  },
  {
   "cell_type": "code",
   "execution_count": null,
   "id": "eafdfa2a",
   "metadata": {},
   "outputs": [],
   "source": []
  },
  {
   "cell_type": "code",
   "execution_count": null,
   "id": "53d3715b",
   "metadata": {},
   "outputs": [],
   "source": []
  },
  {
   "cell_type": "code",
   "execution_count": null,
   "id": "f287b4d9",
   "metadata": {},
   "outputs": [],
   "source": []
  },
  {
   "cell_type": "code",
   "execution_count": null,
   "id": "77c365ca",
   "metadata": {},
   "outputs": [],
   "source": []
  },
  {
   "cell_type": "code",
   "execution_count": null,
   "id": "c1d31b80",
   "metadata": {},
   "outputs": [],
   "source": [
    "wwwz"
   ]
  },
  {
   "cell_type": "code",
   "execution_count": null,
   "id": "96f33c04",
   "metadata": {},
   "outputs": [],
   "source": []
  },
  {
   "cell_type": "code",
   "execution_count": null,
   "id": "5b7350fa",
   "metadata": {},
   "outputs": [],
   "source": []
  },
  {
   "cell_type": "code",
   "execution_count": null,
   "id": "78119c34",
   "metadata": {},
   "outputs": [],
   "source": []
  },
  {
   "cell_type": "code",
   "execution_count": null,
   "id": "29302e07",
   "metadata": {},
   "outputs": [],
   "source": []
  }
 ],
 "metadata": {
  "celltoolbar": "Slideshow",
  "kernelspec": {
   "display_name": "Python 3 (ipykernel)",
   "language": "python",
   "name": "python3"
  },
  "language_info": {
   "codemirror_mode": {
    "name": "ipython",
    "version": 3
   },
   "file_extension": ".py",
   "mimetype": "text/x-python",
   "name": "python",
   "nbconvert_exporter": "python",
   "pygments_lexer": "ipython3",
   "version": "3.10.1"
  },
  "vscode": {
   "interpreter": {
    "hash": "fbc768028c3e6ead51d9a200ddcb2ec858ae62844dcd1994729a8279be9b48f2"
   }
  }
 },
 "nbformat": 4,
 "nbformat_minor": 5
}
