{
 "cells": [
  {
   "cell_type": "code",
   "execution_count": 2,
   "id": "46ea36d3",
   "metadata": {},
   "outputs": [],
   "source": [
    "import numpy as np\n",
    "import pandas as pd\n",
    "from PIL import Image\n",
    "import os"
   ]
  },
  {
   "cell_type": "code",
   "execution_count": null,
   "id": "e67b6036",
   "metadata": {},
   "outputs": [],
   "source": []
  },
  {
   "cell_type": "markdown",
   "id": "99eb15ac",
   "metadata": {},
   "source": [
    "#                       Data preprocessing"
   ]
  },
  {
   "cell_type": "code",
   "execution_count": 2,
   "id": "fea91d73",
   "metadata": {},
   "outputs": [],
   "source": [
    "DirPath = 'C:/Users/Lenovo/Desktop/Data/by_class/4a/train_4a'\n",
    "files = os.listdir(DirPath)\n",
    "my_data = np.array([[[0]*128]*128])\n",
    "my_label = np.array([0])\n",
    "for file in files:\n",
    "    filename = os.path.join(DirPath, file)\n",
    "    image = Image.open(filename).convert('L')\n",
    "    img_inf =  np.array(image)\n",
    "    my_data = np.r_[my_data,[img_inf]]\n",
    "    my_label = np.r_[my_label,[1]]\n",
    "\n",
    "    "
   ]
  },
  {
   "cell_type": "code",
   "execution_count": 3,
   "id": "74eccd27",
   "metadata": {},
   "outputs": [],
   "source": [
    "DirPath = 'C:/Users/Lenovo/Desktop/Data/by_class/4b/train_4b'\n",
    "files = os.listdir(DirPath)\n",
    "for file in files:\n",
    "    filename = os.path.join(DirPath, file)\n",
    "    image = Image.open(filename).convert('L')\n",
    "    img_inf =  np.array(image)\n",
    "    my_data = np.r_[my_data,[img_inf]]\n",
    "    my_label = np.r_[my_label,[2]]"
   ]
  },
  {
   "cell_type": "code",
   "execution_count": 4,
   "id": "065aaab6",
   "metadata": {},
   "outputs": [],
   "source": [
    "DirPath = 'C:/Users/Lenovo/Desktop/Data/by_class/4c/train_4c'\n",
    "files = os.listdir(DirPath)\n",
    "for file in files:\n",
    "    filename = os.path.join(DirPath, file)\n",
    "    image = Image.open(filename).convert('L')\n",
    "    img_inf =  np.array(image)\n",
    "    my_data = np.r_[my_data,[img_inf]]\n",
    "    my_label = np.r_[my_label,[3]]"
   ]
  },
  {
   "cell_type": "code",
   "execution_count": 5,
   "id": "8bc43a7e",
   "metadata": {},
   "outputs": [],
   "source": [
    "DirPath = 'C:/Users/Lenovo/Desktop/Data/by_class/4d/train_4d'\n",
    "files = os.listdir(DirPath)\n",
    "for file in files:\n",
    "    filename = os.path.join(DirPath, file)\n",
    "    image = Image.open(filename).convert('L')\n",
    "    img_inf =  np.array(image)\n",
    "    my_data = np.r_[my_data,[img_inf]]\n",
    "    my_label = np.r_[my_label,[4]]"
   ]
  },
  {
   "cell_type": "code",
   "execution_count": 9,
   "id": "86afd858",
   "metadata": {},
   "outputs": [
    {
     "name": "stdout",
     "output_type": "stream",
     "text": [
      "Training data shape:  (17482, 128, 128)\n",
      "Test data shape (4371, 128, 128)\n",
      "(17482, 16384)\n",
      "(17482,)\n",
      "Model: \"sequential_2\"\n",
      "_________________________________________________________________\n",
      " Layer (type)                Output Shape              Param #   \n",
      "=================================================================\n",
      " dense_4 (Dense)             (None, 256)               4194560   \n",
      "                                                                 \n",
      " dense_5 (Dense)             (None, 128)               32896     \n",
      "                                                                 \n",
      " dense_6 (Dense)             (None, 5)                 645       \n",
      "                                                                 \n",
      "=================================================================\n",
      "Total params: 4,228,101\n",
      "Trainable params: 4,228,101\n",
      "Non-trainable params: 0\n",
      "_________________________________________________________________\n",
      "Epoch 1/4\n",
      "492/492 [==============================] - 12s 24ms/step - loss: 1.2750 - accuracy: 0.4587 - val_loss: 1.2520 - val_accuracy: 0.4671\n",
      "Epoch 2/4\n",
      "492/492 [==============================] - 12s 24ms/step - loss: 1.2642 - accuracy: 0.4593 - val_loss: 1.2545 - val_accuracy: 0.4671\n",
      "Epoch 3/4\n",
      "492/492 [==============================] - 12s 25ms/step - loss: 1.2630 - accuracy: 0.4593 - val_loss: 1.2516 - val_accuracy: 0.4671\n",
      "Epoch 4/4\n",
      "492/492 [==============================] - 12s 24ms/step - loss: 1.2628 - accuracy: 0.4593 - val_loss: 1.2475 - val_accuracy: 0.4671\n",
      "137/137 [==============================] - 2s 11ms/step - loss: 1.2667 - accuracy: 0.4539\n"
     ]
    },
    {
     "data": {
      "image/png": "[encoded data removed]",
      "text/plain": [
       "<Figure size 640x480 with 1 Axes>"
      ]
     },
     "metadata": {},
     "output_type": "display_data"
    },
    {
     "name": "stdout",
     "output_type": "stream",
     "text": [
      "Test loss: 1.27\n"
     ]
    }
   ],
   "source": [
    "import keras\n",
    "import tensorflow as tf\n",
    "from keras.datasets import mnist\n",
    "from keras.layers import Dense # Dense layers are \"fully connected\" layers\n",
    "from keras.models import Sequential # Documentation: https://keras.io/models/sequential/\n",
    "import matplotlib.pyplot as plt\n",
    "from sklearn.model_selection import train_test_split\n",
    "\n",
    "# Setup train and test splits\n",
    "x_train, x_test,y_train, y_test = train_test_split(my_data,my_label,test_size = 0.2, random_state = 365)\n",
    "print(\"Training data shape: \", x_train.shape) # (60000, 28, 28) -- 60000 images, each 28x28 pixels\n",
    "print(\"Test data shape\", x_test.shape) # (10000, 28, 28) -- 10000 images, each 28x28\n",
    "\n",
    "# Flatten the images\n",
    "image_vector_size = 128*128\n",
    "x_train = x_train.reshape(x_train.shape[0], image_vector_size)\n",
    "x_test = x_test.reshape(x_test.shape[0], image_vector_size)\n",
    "\n",
    "image_size = 128*128 # 28*28\n",
    "num_classes = 5 # ten unique digits\n",
    "\n",
    "print(x_train.shape)\n",
    "print(y_train.shape)\n",
    "model = Sequential()\n",
    "\n",
    "# The input layer requires the special input_shape parameter which should match\n",
    "# the shape of our training data.\n",
    "model.add(Dense(units=256, activation='sigmoid', input_shape=(image_size,)))\n",
    "model.add(Dense(units=128, activation='sigmoid'))\n",
    "model.add(Dense(units=num_classes, activation='softmax'))\n",
    "model.summary()\n",
    "\n",
    "# x_train = x_train.reshape(x_train.shape[0], image_vector_size)\n",
    "# x_test = x_test.reshape(x_test.shape[0], image_vector_size)\n",
    "\n",
    "\n",
    "model.compile(optimizer=\"sgd\", loss=\"sparse_categorical_crossentropy\", metrics=['accuracy'])\n",
    "history = model.fit(x_train, y_train, batch_size=32, epochs=4, verbose=True, validation_split=.1)\n",
    "loss, accuracy  = model.evaluate(x_test, y_test, verbose=True)\n",
    "\n",
    "plt.plot(history.history['accuracy'])\n",
    "plt.plot(history.history['val_accuracy'])\n",
    "plt.title('model accuracy')\n",
    "plt.ylabel('accuracy')\n",
    "plt.xlabel('epoch')\n",
    "plt.legend(['training', 'validation'], loc='best')\n",
    "plt.show()\n",
    "\n",
    "print(f'Test loss: {loss:.3}')"
   ]
  },
  {
   "cell_type": "code",
   "execution_count": null,
   "id": "320b4d25",
   "metadata": {},
   "outputs": [],
   "source": []
  },
  {
   "cell_type": "code",
   "execution_count": null,
   "id": "ae17a6df",
   "metadata": {},
   "outputs": [],
   "source": []
  },
  {
   "cell_type": "code",
   "execution_count": null,
   "id": "8afced58",
   "metadata": {},
   "outputs": [],
   "source": []
  },
  {
   "cell_type": "code",
   "execution_count": null,
   "id": "2b276e16",
   "metadata": {},
   "outputs": [],
   "source": []
  },
  {
   "cell_type": "code",
   "execution_count": null,
   "id": "6f84e9cd",
   "metadata": {},
   "outputs": [],
   "source": []
  },
  {
   "cell_type": "code",
   "execution_count": null,
   "id": "eafdfa2a",
   "metadata": {},
   "outputs": [],
   "source": []
  },
  {
   "cell_type": "code",
   "execution_count": null,
   "id": "53d3715b",
   "metadata": {},
   "outputs": [],
   "source": []
  },
  {
   "cell_type": "code",
   "execution_count": null,
   "id": "f287b4d9",
   "metadata": {},
   "outputs": [],
   "source": []
  },
  {
   "cell_type": "code",
   "execution_count": null,
   "id": "77c365ca",
   "metadata": {},
   "outputs": [],
   "source": []
  },
  {
   "cell_type": "code",
   "execution_count": null,
   "id": "c1d31b80",
   "metadata": {},
   "outputs": [],
   "source": []
  },
  {
   "cell_type": "code",
   "execution_count": null,
   "id": "96f33c04",
   "metadata": {},
   "outputs": [],
   "source": []
  },
  {
   "cell_type": "code",
   "execution_count": null,
   "id": "5b7350fa",
   "metadata": {},
   "outputs": [],
   "source": []
  },
  {
   "cell_type": "code",
   "execution_count": null,
   "id": "78119c34",
   "metadata": {},
   "outputs": [],
   "source": []
  },
  {
   "cell_type": "code",
   "execution_count": null,
   "id": "29302e07",
   "metadata": {},
   "outputs": [],
   "source": []
  }
 ],
 "metadata": {
  "kernelspec": {
   "display_name": "Python 3.10.1 64-bit",
   "language": "python",
   "name": "python3"
  },
  "language_info": {
   "codemirror_mode": {
    "name": "ipython",
    "version": 3
   },
   "file_extension": ".py",
   "mimetype": "text/x-python",
   "name": "python",
   "nbconvert_exporter": "python",
   "pygments_lexer": "ipython3",
   "version": "3.10.1"
  },
  "vscode": {
   "interpreter": {
    "hash": "fbc768028c3e6ead51d9a200ddcb2ec858ae62844dcd1994729a8279be9b48f2"
   }
  }
 },
 "nbformat": 4,
 "nbformat_minor": 5
}
