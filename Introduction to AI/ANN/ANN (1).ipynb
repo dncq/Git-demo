{
 "cells": [
  {
   "cell_type": "code",
   "execution_count": 1,
   "id": "46ea36d3",
   "metadata": {},
   "outputs": [],
   "source": []
  },
  {
   "cell_type": "markdown",
   "id": "99eb15ac",
   "metadata": {},
   "source": [
    "#                       Data preprocessing"
   ]
  },
  {
   "cell_type": "code",
   "execution_count": null,
   "id": "fea91d73",
   "metadata": {},
   "outputs": [],
   "source": [
    "pip install emnist"
   ]
  },
  {
   "cell_type": "code",
   "execution_count": 1,
   "id": "74eccd27",
   "metadata": {},
   "outputs": [
    {
     "data": {
      "text/plain": [
       "['balanced', 'byclass', 'bymerge', 'digits', 'letters', 'mnist']"
      ]
     },
     "execution_count": 1,
     "metadata": {},
     "output_type": "execute_result"
    }
   ],
   "source": [
    "from emnist import list_datasets\n",
    "list_datasets()"
   ]
  },
  {
   "cell_type": "code",
   "execution_count": 2,
   "id": "065aaab6",
   "metadata": {},
   "outputs": [
    {
     "data": {
      "text/plain": [
       "(697932, 28, 28)"
      ]
     },
     "execution_count": 2,
     "metadata": {},
     "output_type": "execute_result"
    }
   ],
   "source": [
    "#Install EMIST library, import datasets of letters, Matplotlib\n",
    "\n",
    "from emnist import list_datasets\n",
    "import matplotlib as mpl\n",
    "import matplotlib.pyplot as plt\n",
    "%matplotlib inline\n",
    "from emnist import extract_training_samples\n",
    "images, labels = extract_training_samples(\"byclass\")\n",
    "images.shape"
   ]
  },
  {
   "cell_type": "code",
   "execution_count": null,
   "id": "86afd858",
   "metadata": {},
   "outputs": [
    {
     "name": "stdout",
     "output_type": "stream",
     "text": [
      "Training data shape:  (558345, 28, 28)\n",
      "Test data shape (139587, 28, 28)\n",
      "y_train.shape = (558345,)\n",
      "(558345, 784)\n",
      "(558345,)\n",
      "Model: \"sequential\"\n",
      "_________________________________________________________________\n",
      " Layer (type)                Output Shape              Param #   \n",
      "=================================================================\n",
      " dense (Dense)               (None, 256)               200960    \n",
      "                                                                 \n",
      " dense_1 (Dense)             (None, 256)               65792     \n",
      "                                                                 \n",
      " dense_2 (Dense)             (None, 256)               65792     \n",
      "                                                                 \n",
      " dense_3 (Dense)             (None, 63)                16191     \n",
      "                                                                 \n",
      "=================================================================\n",
      "Total params: 348,735\n",
      "Trainable params: 348,735\n",
      "Non-trainable params: 0\n",
      "_________________________________________________________________\n",
      "Epoch 1/100\n",
      "15704/15704 [==============================] - 85s 5ms/step - loss: 1.2850 - accuracy: 0.6654 - val_loss: 0.9413 - val_accuracy: 0.7254\n",
      "Epoch 2/100\n",
      " 2436/15704 [===>..........................] - ETA: 1:04 - loss: 0.9231 - accuracy: 0.7270"
     ]
    }
   ],
   "source": [
    "import keras\n",
    "import tensorflow as tf\n",
    "from keras.datasets import mnist\n",
    "from keras.layers import Dense # Dense layers are \"fully connected\" layers\n",
    "from keras.models import Sequential # Documentation: https://keras.io/models/sequential/\n",
    "import matplotlib.pyplot as plt\n",
    "from sklearn.model_selection import train_test_split\n",
    "my_data = images\n",
    "my_label = labels\n",
    "x_train, x_test,y_train, y_test = train_test_split(my_data,my_label,test_size = 0.2, random_state = 365)\n",
    "print(\"Training data shape: \", x_train.shape) # (60000, 28, 28) -- 60000 images, each 28x28 pixels\n",
    "print(\"Test data shape\", x_test.shape) # (10000, 28, 28) -- 10000 images, each 28x28\n",
    "print(\"y_train.shape =\",y_train.shape)\n",
    "# Flatten the images\n",
    "image_vector_size = 28*28\n",
    "x_train = x_train.reshape(x_train.shape[0], image_vector_size)\n",
    "x_test = x_test.reshape(x_test.shape[0], image_vector_size)\n",
    "\n",
    "image_size = 28*28 # 28*28\n",
    "num_classes = 62 # ten unique digits\n",
    "\n",
    "print(x_train.shape)\n",
    "print(y_train.shape)\n",
    "model = Sequential()\n",
    "\n",
    "# The input layer requires the special input_shape parameter which should match\n",
    "# the shape of our training data.\n",
    "model.add(Dense(units= 256, activation='relu', input_shape=(image_size,)))\n",
    "model.add(Dense(units = 256, activation=\"linear\"))\n",
    "model.add(Dense(units = 256, activation=\"elu\"))\n",
    "model.add(Dense(units=num_classes+1, activation='softmax'))\n",
    "\n",
    "model.summary()\n",
    "\n",
    "# x_train = x_train.reshape(x_train.shape[0], image_vector_size)\n",
    "# x_test = x_test.reshape(x_test.shape[0], image_vector_size)\n",
    "\n",
    "\n",
    "model.compile(optimizer=\"adam\", loss=\"sparse_categorical_crossentropy\", metrics=['accuracy'])\n",
    "history = model.fit(x_train, y_train, batch_size=32, epochs=100, verbose=True, validation_split=.1)\n",
    "loss, accuracy  = model.evaluate(x_test, y_test, verbose=True)\n",
    "\n",
    "plt.plot(history.history['accuracy'])\n",
    "plt.plot(history.history['val_accuracy'])\n",
    "plt.title('model accuracy')\n",
    "plt.ylabel('accuracy')\n",
    "plt.xlabel('epoch')\n",
    "plt.legend(['training', 'validation'], loc='best')\n",
    "plt.show()\n",
    "\n",
    "print(f'Test loss: {loss:.3}')"
   ]
  },
  {
   "cell_type": "code",
   "execution_count": null,
   "id": "320b4d25",
   "metadata": {},
   "outputs": [],
   "source": [
    "import pickle\n",
    "with open('test_data.pickle','wb') as file:\n",
    "    pickle.dump(my_data, file)"
   ]
  },
  {
   "cell_type": "code",
   "execution_count": null,
   "id": "ae17a6df",
   "metadata": {},
   "outputs": [],
   "source": [
    "with open('test_label.pickle','wb') as file:\n",
    "    pickle.dump(my_label, file)"
   ]
  },
  {
   "cell_type": "code",
   "execution_count": null,
   "id": "8afced58",
   "metadata": {},
   "outputs": [],
   "source": []
  },
  {
   "cell_type": "code",
   "execution_count": null,
   "id": "2b276e16",
   "metadata": {},
   "outputs": [],
   "source": []
  },
  {
   "cell_type": "code",
   "execution_count": null,
   "id": "6f84e9cd",
   "metadata": {},
   "outputs": [],
   "source": []
  },
  {
   "cell_type": "code",
   "execution_count": null,
   "id": "eafdfa2a",
   "metadata": {},
   "outputs": [],
   "source": []
  },
  {
   "cell_type": "code",
   "execution_count": null,
   "id": "53d3715b",
   "metadata": {},
   "outputs": [],
   "source": []
  },
  {
   "cell_type": "code",
   "execution_count": null,
   "id": "f287b4d9",
   "metadata": {},
   "outputs": [],
   "source": []
  },
  {
   "cell_type": "code",
   "execution_count": null,
   "id": "77c365ca",
   "metadata": {},
   "outputs": [],
   "source": []
  },
  {
   "cell_type": "code",
   "execution_count": null,
   "id": "c1d31b80",
   "metadata": {},
   "outputs": [],
   "source": []
  },
  {
   "cell_type": "code",
   "execution_count": null,
   "id": "96f33c04",
   "metadata": {},
   "outputs": [],
   "source": []
  },
  {
   "cell_type": "code",
   "execution_count": null,
   "id": "5b7350fa",
   "metadata": {},
   "outputs": [],
   "source": []
  },
  {
   "cell_type": "code",
   "execution_count": null,
   "id": "78119c34",
   "metadata": {},
   "outputs": [],
   "source": []
  },
  {
   "cell_type": "code",
   "execution_count": null,
   "id": "29302e07",
   "metadata": {},
   "outputs": [],
   "source": []
  }
 ],
 "metadata": {
  "kernelspec": {
   "display_name": "Python 3 (ipykernel)",
   "language": "python",
   "name": "python3"
  },
  "language_info": {
   "codemirror_mode": {
    "name": "ipython",
    "version": 3
   },
   "file_extension": ".py",
   "mimetype": "text/x-python",
   "name": "python",
   "nbconvert_exporter": "python",
   "pygments_lexer": "ipython3",
   "version": "3.10.1"
  }
 },
 "nbformat": 4,
 "nbformat_minor": 5
}
