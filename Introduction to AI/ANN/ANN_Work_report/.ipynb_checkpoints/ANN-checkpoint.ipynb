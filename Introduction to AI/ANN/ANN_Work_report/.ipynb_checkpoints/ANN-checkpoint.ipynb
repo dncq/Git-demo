{
 "cells": [
  {
   "cell_type": "markdown",
   "id": "b3738e23",
   "metadata": {},
   "source": [
    "# Libraries Import and Data Preparation"
   ]
  },
  {
   "cell_type": "code",
   "execution_count": 1,
   "id": "89ccf616",
   "metadata": {},
   "outputs": [
    {
     "name": "stdout",
     "output_type": "stream",
     "text": [
      "Requirement already satisfied: seaborn in c:\\users\\dell\\appdata\\local\\programs\\python\\python310\\lib\\site-packages (0.12.1)Note: you may need to restart the kernel to use updated packages.\n",
      "Requirement already satisfied: numpy>=1.17 in c:\\users\\dell\\appdata\\local\\programs\\python\\python310\\lib\\site-packages (from seaborn) (1.22.3)\n",
      "Requirement already satisfied: matplotlib!=3.6.1,>=3.1 in c:\\users\\dell\\appdata\\local\\programs\\python\\python310\\lib\\site-packages (from seaborn) (3.6.2)\n",
      "Requirement already satisfied: pandas>=0.25 in c:\\users\\dell\\appdata\\local\\programs\\python\\python310\\lib\\site-packages (from seaborn) (1.4.1)\n",
      "Requirement already satisfied: pillow>=6.2.0 in c:\\users\\dell\\appdata\\local\\programs\\python\\python310\\lib\\site-packages (from matplotlib!=3.6.1,>=3.1->seaborn) (9.2.0)\n",
      "Requirement already satisfied: pyparsing>=2.2.1 in c:\\users\\dell\\appdata\\local\\programs\\python\\python310\\lib\\site-packages (from matplotlib!=3.6.1,>=3.1->seaborn) (3.0.6)\n",
      "Requirement already satisfied: fonttools>=4.22.0 in c:\\users\\dell\\appdata\\local\\programs\\python\\python310\\lib\\site-packages (from matplotlib!=3.6.1,>=3.1->seaborn) (4.38.0)\n"
     ]
    },
    {
     "name": "stderr",
     "output_type": "stream",
     "text": [
      "WARNING: There was an error checking the latest version of pip.\n"
     ]
    },
    {
     "name": "stdout",
     "output_type": "stream",
     "text": [
      "\n",
      "Requirement already satisfied: contourpy>=1.0.1 in c:\\users\\dell\\appdata\\local\\programs\\python\\python310\\lib\\site-packages (from matplotlib!=3.6.1,>=3.1->seaborn) (1.0.5)\n",
      "Requirement already satisfied: packaging>=20.0 in c:\\users\\dell\\appdata\\local\\programs\\python\\python310\\lib\\site-packages (from matplotlib!=3.6.1,>=3.1->seaborn) (21.3)\n",
      "Requirement already satisfied: kiwisolver>=1.0.1 in c:\\users\\dell\\appdata\\local\\programs\\python\\python310\\lib\\site-packages (from matplotlib!=3.6.1,>=3.1->seaborn) (1.4.4)\n",
      "Requirement already satisfied: cycler>=0.10 in c:\\users\\dell\\appdata\\local\\programs\\python\\python310\\lib\\site-packages (from matplotlib!=3.6.1,>=3.1->seaborn) (0.11.0)\n",
      "Requirement already satisfied: python-dateutil>=2.7 in c:\\users\\dell\\appdata\\local\\programs\\python\\python310\\lib\\site-packages (from matplotlib!=3.6.1,>=3.1->seaborn) (2.8.2)\n",
      "Requirement already satisfied: pytz>=2020.1 in c:\\users\\dell\\appdata\\local\\programs\\python\\python310\\lib\\site-packages (from pandas>=0.25->seaborn) (2022.1)\n",
      "Requirement already satisfied: six>=1.5 in c:\\users\\dell\\appdata\\local\\programs\\python\\python310\\lib\\site-packages (from python-dateutil>=2.7->matplotlib!=3.6.1,>=3.1->seaborn) (1.16.0)\n"
     ]
    }
   ],
   "source": [
    "pip install seaborn"
   ]
  },
  {
   "cell_type": "code",
   "execution_count": 2,
   "id": "0f264991",
   "metadata": {},
   "outputs": [
    {
     "name": "stdout",
     "output_type": "stream",
     "text": [
      "Requirement already satisfied: pandas in c:\\users\\dell\\appdata\\local\\programs\\python\\python310\\lib\\site-packages (1.4.1)\n",
      "Requirement already satisfied: numpy>=1.21.0 in c:\\users\\dell\\appdata\\local\\programs\\python\\python310\\lib\\site-packages (from pandas) (1.22.3)\n",
      "Requirement already satisfied: python-dateutil>=2.8.1 in c:\\users\\dell\\appdata\\local\\programs\\python\\python310\\lib\\site-packages (from pandas) (2.8.2)\n",
      "Requirement already satisfied: pytz>=2020.1 in c:\\users\\dell\\appdata\\local\\programs\\python\\python310\\lib\\site-packages (from pandas) (2022.1)\n",
      "Requirement already satisfied: six>=1.5 in c:\\users\\dell\\appdata\\local\\programs\\python\\python310\\lib\\site-packages (from python-dateutil>=2.8.1->pandas) (1.16.0)\n",
      "Note: you may need to restart the kernel to use updated packages.\n"
     ]
    },
    {
     "name": "stderr",
     "output_type": "stream",
     "text": [
      "WARNING: There was an error checking the latest version of pip.\n"
     ]
    }
   ],
   "source": [
    "pip install pandas"
   ]
  },
  {
   "cell_type": "code",
   "execution_count": 3,
   "id": "09141eee",
   "metadata": {},
   "outputs": [
    {
     "name": "stdout",
     "output_type": "stream",
     "text": [
      "Requirement already satisfied: emnist in c:\\users\\dell\\appdata\\local\\programs\\python\\python310\\lib\\site-packages (0.0)\n",
      "Requirement already satisfied: tqdm in c:\\users\\dell\\appdata\\local\\programs\\python\\python310\\lib\\site-packages (from emnist) (4.64.1)\n",
      "Requirement already satisfied: requests in c:\\users\\dell\\appdata\\local\\programs\\python\\python310\\lib\\site-packages (from emnist) (2.27.1)\n",
      "Requirement already satisfied: numpy in c:\\users\\dell\\appdata\\local\\programs\\python\\python310\\lib\\site-packages (from emnist) (1.22.3)\n",
      "Requirement already satisfied: charset-normalizer~=2.0.0 in c:\\users\\dell\\appdata\\local\\programs\\python\\python310\\lib\\site-packages (from requests->emnist) (2.0.10)\n",
      "Requirement already satisfied: urllib3<1.27,>=1.21.1 in c:\\users\\dell\\appdata\\local\\programs\\python\\python310\\lib\\site-packages (from requests->emnist) (1.26.8)\n",
      "Requirement already satisfied: idna<4,>=2.5 in c:\\users\\dell\\appdata\\local\\programs\\python\\python310\\lib\\site-packages (from requests->emnist) (3.3)\n",
      "Requirement already satisfied: certifi>=2017.4.17 in c:\\users\\dell\\appdata\\local\\programs\\python\\python310\\lib\\site-packages (from requests->emnist) (2021.10.8)\n",
      "Requirement already satisfied: colorama in c:\\users\\dell\\appdata\\local\\programs\\python\\python310\\lib\\site-packages (from tqdm->emnist) (0.4.4)\n",
      "Note: you may need to restart the kernel to use updated packages.\n"
     ]
    }
   ],
   "source": [
    "pip install emnist"
   ]
  },
  {
   "cell_type": "code",
   "execution_count": 4,
   "id": "4d2c617e",
   "metadata": {},
   "outputs": [
    {
     "name": "stdout",
     "output_type": "stream",
     "text": [
      "Requirement already satisfied: keras in c:\\users\\dell\\appdata\\local\\programs\\python\\python310\\lib\\site-packages (2.10.0)\n",
      "Note: you may need to restart the kernel to use updated packages.\n"
     ]
    }
   ],
   "source": [
    "pip install keras"
   ]
  },
  {
   "cell_type": "code",
   "execution_count": 5,
   "id": "4eb6e718",
   "metadata": {},
   "outputs": [
    {
     "name": "stdout",
     "output_type": "stream",
     "text": [
      "Requirement already satisfied: tensorflow in c:\\users\\dell\\appdata\\local\\programs\\python\\python310\\lib\\site-packages (2.10.0)\n",
      "Requirement already satisfied: six>=1.12.0 in c:\\users\\dell\\appdata\\local\\programs\\python\\python310\\lib\\site-packages (from tensorflow) (1.16.0)\n",
      "Requirement already satisfied: absl-py>=1.0.0 in c:\\users\\dell\\appdata\\local\\programs\\python\\python310\\lib\\site-packages (from tensorflow) (1.3.0)\n",
      "Requirement already satisfied: tensorboard<2.11,>=2.10 in c:\\users\\dell\\appdata\\local\\programs\\python\\python310\\lib\\site-packages (from tensorflow) (2.10.1)\n",
      "Requirement already satisfied: wrapt>=1.11.0 in c:\\users\\dell\\appdata\\local\\programs\\python\\python310\\lib\\site-packages (from tensorflow) (1.14.1)\n",
      "Requirement already satisfied: google-pasta>=0.1.1 in c:\\users\\dell\\appdata\\local\\programs\\python\\python310\\lib\\site-packages (from tensorflow) (0.2.0)\n",
      "Requirement already satisfied: numpy>=1.20 in c:\\users\\dell\\appdata\\local\\programs\\python\\python310\\lib\\site-packages (from tensorflow) (1.22.3)\n",
      "Requirement already satisfied: flatbuffers>=2.0 in c:\\users\\dell\\appdata\\local\\programs\\python\\python310\\lib\\site-packages (from tensorflow) (22.10.26)\n",
      "Requirement already satisfied: typing-extensions>=3.6.6 in c:\\users\\dell\\appdata\\local\\programs\\python\\python310\\lib\\site-packages (from tensorflow) (4.4.0)\n",
      "Requirement already satisfied: termcolor>=1.1.0 in c:\\users\\dell\\appdata\\local\\programs\\python\\python310\\lib\\site-packages (from tensorflow) (2.1.0)\n",
      "Requirement already satisfied: tensorflow-io-gcs-filesystem>=0.23.1 in c:\\users\\dell\\appdata\\local\\programs\\python\\python310\\lib\\site-packages (from tensorflow) (0.27.0)\n",
      "Requirement already satisfied: gast<=0.4.0,>=0.2.1 in c:\\users\\dell\\appdata\\local\\programs\\python\\python310\\lib\\site-packages (from tensorflow) (0.4.0)\n",
      "Requirement already satisfied: keras-preprocessing>=1.1.1 in c:\\users\\dell\\appdata\\local\\programs\\python\\python310\\lib\\site-packages (from tensorflow) (1.1.2)\n",
      "Requirement already satisfied: packaging in c:\\users\\dell\\appdata\\local\\programs\\python\\python310\\lib\\site-packages (from tensorflow) (21.3)\n",
      "Requirement already satisfied: protobuf<3.20,>=3.9.2 in c:\\users\\dell\\appdata\\local\\programs\\python\\python310\\lib\\site-packages (from tensorflow) (3.19.6)\n",
      "Requirement already satisfied: tensorflow-estimator<2.11,>=2.10.0 in c:\\users\\dell\\appdata\\local\\programs\\python\\python310\\lib\\site-packages (from tensorflow) (2.10.0)\n",
      "Requirement already satisfied: grpcio<2.0,>=1.24.3 in c:\\users\\dell\\appdata\\local\\programs\\python\\python310\\lib\\site-packages (from tensorflow) (1.50.0)\n",
      "Requirement already satisfied: opt-einsum>=2.3.2 in c:\\users\\dell\\appdata\\local\\programs\\python\\python310\\lib\\site-packages (from tensorflow) (3.3.0)\n",
      "Requirement already satisfied: astunparse>=1.6.0 in c:\\users\\dell\\appdata\\local\\programs\\python\\python310\\lib\\site-packages (from tensorflow) (1.6.3)\n",
      "Requirement already satisfied: keras<2.11,>=2.10.0 in c:\\users\\dell\\appdata\\local\\programs\\python\\python310\\lib\\site-packages (from tensorflow) (2.10.0)\n",
      "Requirement already satisfied: libclang>=13.0.0 in c:\\users\\dell\\appdata\\local\\programs\\python\\python310\\lib\\site-packages (from tensorflow) (14.0.6)\n",
      "Requirement already satisfied: setuptools in c:\\users\\dell\\appdata\\local\\programs\\python\\python310\\lib\\site-packages (from tensorflow) (58.1.0)\n",
      "Requirement already satisfied: h5py>=2.9.0 in c:\\users\\dell\\appdata\\local\\programs\\python\\python310\\lib\\site-packages (from tensorflow) (3.7.0)\n",
      "Requirement already satisfied: wheel<1.0,>=0.23.0 in c:\\users\\dell\\appdata\\local\\programs\\python\\python310\\lib\\site-packages (from astunparse>=1.6.0->tensorflow) (0.38.4)\n",
      "Requirement already satisfied: google-auth<3,>=1.6.3 in c:\\users\\dell\\appdata\\local\\programs\\python\\python310\\lib\\site-packages (from tensorboard<2.11,>=2.10->tensorflow) (2.14.1)\n",
      "Requirement already satisfied: werkzeug>=1.0.1 in c:\\users\\dell\\appdata\\local\\programs\\python\\python310\\lib\\site-packages (from tensorboard<2.11,>=2.10->tensorflow) (2.2.2)\n",
      "Requirement already satisfied: google-auth-oauthlib<0.5,>=0.4.1 in c:\\users\\dell\\appdata\\local\\programs\\python\\python310\\lib\\site-packages (from tensorboard<2.11,>=2.10->tensorflow) (0.4.6)\n",
      "Requirement already satisfied: tensorboard-data-server<0.7.0,>=0.6.0 in c:\\users\\dell\\appdata\\local\\programs\\python\\python310\\lib\\site-packages (from tensorboard<2.11,>=2.10->tensorflow) (0.6.1)\n",
      "Requirement already satisfied: markdown>=2.6.8 in c:\\users\\dell\\appdata\\local\\programs\\python\\python310\\lib\\site-packages (from tensorboard<2.11,>=2.10->tensorflow) (3.4.1)\n",
      "Requirement already satisfied: tensorboard-plugin-wit>=1.6.0 in c:\\users\\dell\\appdata\\local\\programs\\python\\python310\\lib\\site-packages (from tensorboard<2.11,>=2.10->tensorflow) (1.8.1)\n",
      "Requirement already satisfied: requests<3,>=2.21.0 in c:\\users\\dell\\appdata\\local\\programs\\python\\python310\\lib\\site-packages (from tensorboard<2.11,>=2.10->tensorflow) (2.27.1)\n",
      "Requirement already satisfied: pyparsing!=3.0.5,>=2.0.2 in c:\\users\\dell\\appdata\\local\\programs\\python\\python310\\lib\\site-packages (from packaging->tensorflow) (3.0.6)\n",
      "Requirement already satisfied: rsa<5,>=3.1.4 in c:\\users\\dell\\appdata\\local\\programs\\python\\python310\\lib\\site-packages (from google-auth<3,>=1.6.3->tensorboard<2.11,>=2.10->tensorflow) (4.9)\n",
      "Requirement already satisfied: cachetools<6.0,>=2.0.0 in c:\\users\\dell\\appdata\\local\\programs\\python\\python310\\lib\\site-packages (from google-auth<3,>=1.6.3->tensorboard<2.11,>=2.10->tensorflow) (5.2.0)\n",
      "Requirement already satisfied: pyasn1-modules>=0.2.1 in c:\\users\\dell\\appdata\\local\\programs\\python\\python310\\lib\\site-packages (from google-auth<3,>=1.6.3->tensorboard<2.11,>=2.10->tensorflow) (0.2.8)\n",
      "Requirement already satisfied: requests-oauthlib>=0.7.0 in c:\\users\\dell\\appdata\\local\\programs\\python\\python310\\lib\\site-packages (from google-auth-oauthlib<0.5,>=0.4.1->tensorboard<2.11,>=2.10->tensorflow) (1.3.1)\n",
      "Requirement already satisfied: charset-normalizer~=2.0.0 in c:\\users\\dell\\appdata\\local\\programs\\python\\python310\\lib\\site-packages (from requests<3,>=2.21.0->tensorboard<2.11,>=2.10->tensorflow) (2.0.10)\n",
      "Requirement already satisfied: idna<4,>=2.5 in c:\\users\\dell\\appdata\\local\\programs\\python\\python310\\lib\\site-packages (from requests<3,>=2.21.0->tensorboard<2.11,>=2.10->tensorflow) (3.3)\n",
      "Requirement already satisfied: urllib3<1.27,>=1.21.1 in c:\\users\\dell\\appdata\\local\\programs\\python\\python310\\lib\\site-packages (from requests<3,>=2.21.0->tensorboard<2.11,>=2.10->tensorflow) (1.26.8)\n",
      "Requirement already satisfied: certifi>=2017.4.17 in c:\\users\\dell\\appdata\\local\\programs\\python\\python310\\lib\\site-packages (from requests<3,>=2.21.0->tensorboard<2.11,>=2.10->tensorflow) (2021.10.8)\n",
      "Requirement already satisfied: MarkupSafe>=2.1.1 in c:\\users\\dell\\appdata\\local\\programs\\python\\python310\\lib\\site-packages (from werkzeug>=1.0.1->tensorboard<2.11,>=2.10->tensorflow) (2.1.1)\n",
      "Requirement already satisfied: pyasn1<0.5.0,>=0.4.6 in c:\\users\\dell\\appdata\\local\\programs\\python\\python310\\lib\\site-packages (from pyasn1-modules>=0.2.1->google-auth<3,>=1.6.3->tensorboard<2.11,>=2.10->tensorflow) (0.4.8)\n",
      "Requirement already satisfied: oauthlib>=3.0.0 in c:\\users\\dell\\appdata\\local\\programs\\python\\python310\\lib\\site-packages (from requests-oauthlib>=0.7.0->google-auth-oauthlib<0.5,>=0.4.1->tensorboard<2.11,>=2.10->tensorflow) (3.2.2)\n",
      "Note: you may need to restart the kernel to use updated packages.\n"
     ]
    }
   ],
   "source": [
    "pip install tensorflow"
   ]
  },
  {
   "cell_type": "code",
   "execution_count": 6,
   "id": "562c04dd",
   "metadata": {},
   "outputs": [
    {
     "name": "stdout",
     "output_type": "stream",
     "text": [
      "Requirement already satisfied: sklearn in c:\\users\\dell\\appdata\\local\\programs\\python\\python310\\lib\\site-packages (0.0.post1)\n",
      "Note: you may need to restart the kernel to use updated packages.\n"
     ]
    }
   ],
   "source": [
    "pip install sklearn"
   ]
  },
  {
   "cell_type": "code",
   "execution_count": 7,
   "id": "7775ad87",
   "metadata": {},
   "outputs": [],
   "source": [
    "# Module for dataset\n",
    "from emnist import extract_training_samples, extract_test_samples\n",
    "\n",
    "# Module for building ANN\n",
    "import keras\n",
    "import tensorflow as tf\n",
    "from keras.layers import Dense \n",
    "from keras.models import Sequential \n",
    "\n",
    "# Module for data preprocessing\n",
    "from sklearn.model_selection import train_test_split\n",
    "import numpy as np\n",
    "\n",
    "#Module for result demonstration\n",
    "import seaborn as sn\n",
    "import pandas as pd\n",
    "import matplotlib.pyplot as plt\n",
    "from sklearn.metrics import classification_report\n",
    "from sklearn.metrics import confusion_matrix"
   ]
  },
  {
   "cell_type": "code",
   "execution_count": 39,
   "id": "30aa89bb",
   "metadata": {},
   "outputs": [],
   "source": [
    "# Extract data from EMNIST Balanced Dataset (131,600 samples in total)\n",
    "test_data, test_label =  extract_test_samples(\"balanced\")\n",
    "train_data, train_label = extract_training_samples(\"balanced\")\n",
    "\n",
    "#Group training and testing data\n",
    "x_data = np.concatenate((train_data,test_data))\n",
    "y_label = np.concatenate((train_label,test_label))\n",
    "\n",
    "#Convert data into 1D Numpy array \n",
    "image_vector_size = 784 \n",
    "x_data = x_data.reshape(x_data.shape[0], image_vector_size)\n",
    "\n",
    "\n",
    "# Min Max Scaling Data\n",
    "x_data = x_data / 255\n",
    "\n",
    "#Divide data into training and test set\n",
    "x_train, x_test,y_train, y_test = train_test_split(x_data,y_label,test_size = 0.2, stratify = y_label)"
   ]
  },
  {
   "cell_type": "markdown",
   "id": "7adf9ca5",
   "metadata": {
    "slideshow": {
     "slide_type": "-"
    }
   },
   "source": [
    "# ANN construction and testing result "
   ]
  },
  {
   "cell_type": "code",
   "execution_count": 57,
   "id": "8d36cbba",
   "metadata": {
    "scrolled": false
   },
   "outputs": [
    {
     "name": "stdout",
     "output_type": "stream",
     "text": [
      "Model: \"sequential_1\"\n",
      "_________________________________________________________________\n",
      " Layer (type)                Output Shape              Param #   \n",
      "=================================================================\n",
      " dense_3 (Dense)             (None, 256)               200960    \n",
      "                                                                 \n",
      " dense_4 (Dense)             (None, 256)               65792     \n",
      "                                                                 \n",
      " dense_5 (Dense)             (None, 47)                12079     \n",
      "                                                                 \n",
      "=================================================================\n",
      "Total params: 278,831\n",
      "Trainable params: 278,831\n",
      "Non-trainable params: 0\n",
      "_________________________________________________________________\n",
      "Epoch 1/100\n",
      "2961/2961 [==============================] - 13s 4ms/step - loss: 1.9504 - accuracy: 0.5071 - val_loss: 1.2787 - val_accuracy: 0.6411\n",
      "Epoch 2/100\n",
      "2961/2961 [==============================] - 13s 4ms/step - loss: 1.1547 - accuracy: 0.6750 - val_loss: 1.0521 - val_accuracy: 0.6987\n",
      "Epoch 3/100\n",
      "2961/2961 [==============================] - 13s 4ms/step - loss: 0.9769 - accuracy: 0.7184 - val_loss: 0.9153 - val_accuracy: 0.7319\n",
      "Epoch 4/100\n",
      "2961/2961 [==============================] - 16s 5ms/step - loss: 0.8581 - accuracy: 0.7484 - val_loss: 0.8283 - val_accuracy: 0.7522\n",
      "Epoch 5/100\n",
      "2961/2961 [==============================] - 15s 5ms/step - loss: 0.7749 - accuracy: 0.7697 - val_loss: 0.7569 - val_accuracy: 0.7753\n",
      "Epoch 6/100\n",
      "2961/2961 [==============================] - 17s 6ms/step - loss: 0.7130 - accuracy: 0.7855 - val_loss: 0.7132 - val_accuracy: 0.7878\n",
      "Epoch 7/100\n",
      "2961/2961 [==============================] - 13s 5ms/step - loss: 0.6652 - accuracy: 0.7972 - val_loss: 0.6703 - val_accuracy: 0.7936\n",
      "Epoch 8/100\n",
      "2961/2961 [==============================] - 14s 5ms/step - loss: 0.6266 - accuracy: 0.8058 - val_loss: 0.6400 - val_accuracy: 0.8047\n",
      "Epoch 9/100\n",
      "2961/2961 [==============================] - 17s 6ms/step - loss: 0.5948 - accuracy: 0.8147 - val_loss: 0.6199 - val_accuracy: 0.8060\n",
      "Epoch 10/100\n",
      "2961/2961 [==============================] - 16s 5ms/step - loss: 0.5680 - accuracy: 0.8219 - val_loss: 0.6005 - val_accuracy: 0.8188\n",
      "Epoch 11/100\n",
      "2961/2961 [==============================] - 15s 5ms/step - loss: 0.5453 - accuracy: 0.8265 - val_loss: 0.5834 - val_accuracy: 0.8205\n",
      "Epoch 12/100\n",
      "2961/2961 [==============================] - 17s 6ms/step - loss: 0.5255 - accuracy: 0.8332 - val_loss: 0.5647 - val_accuracy: 0.8253\n",
      "Epoch 13/100\n",
      "2961/2961 [==============================] - 15s 5ms/step - loss: 0.5082 - accuracy: 0.8374 - val_loss: 0.5602 - val_accuracy: 0.8231\n",
      "Epoch 14/100\n",
      "2961/2961 [==============================] - 17s 6ms/step - loss: 0.4922 - accuracy: 0.8418 - val_loss: 0.5444 - val_accuracy: 0.8269\n",
      "Epoch 15/100\n",
      "2961/2961 [==============================] - 16s 6ms/step - loss: 0.4781 - accuracy: 0.8450 - val_loss: 0.5332 - val_accuracy: 0.8332\n",
      "Epoch 16/100\n",
      "2961/2961 [==============================] - 18s 6ms/step - loss: 0.4648 - accuracy: 0.8492 - val_loss: 0.5256 - val_accuracy: 0.8340\n",
      "Epoch 17/100\n",
      "2961/2961 [==============================] - 16s 6ms/step - loss: 0.4534 - accuracy: 0.8516 - val_loss: 0.5193 - val_accuracy: 0.8337\n",
      "Epoch 18/100\n",
      "2961/2961 [==============================] - 13s 4ms/step - loss: 0.4424 - accuracy: 0.8545 - val_loss: 0.5130 - val_accuracy: 0.8359\n",
      "Epoch 19/100\n",
      "2961/2961 [==============================] - 16s 6ms/step - loss: 0.4329 - accuracy: 0.8570 - val_loss: 0.5025 - val_accuracy: 0.8415\n",
      "Epoch 20/100\n",
      "2961/2961 [==============================] - 17s 6ms/step - loss: 0.4230 - accuracy: 0.8597 - val_loss: 0.5061 - val_accuracy: 0.8331\n",
      "Epoch 21/100\n",
      "2961/2961 [==============================] - 16s 5ms/step - loss: 0.4144 - accuracy: 0.8626 - val_loss: 0.4986 - val_accuracy: 0.8371\n",
      "Epoch 22/100\n",
      "2961/2961 [==============================] - 13s 4ms/step - loss: 0.4055 - accuracy: 0.8652 - val_loss: 0.4941 - val_accuracy: 0.8400\n",
      "Epoch 23/100\n",
      "2961/2961 [==============================] - 18s 6ms/step - loss: 0.3976 - accuracy: 0.8678 - val_loss: 0.4892 - val_accuracy: 0.8419\n",
      "Epoch 24/100\n",
      "2961/2961 [==============================] - 17s 6ms/step - loss: 0.3907 - accuracy: 0.8688 - val_loss: 0.4860 - val_accuracy: 0.8438\n",
      "Epoch 25/100\n",
      "2961/2961 [==============================] - 16s 5ms/step - loss: 0.3833 - accuracy: 0.8704 - val_loss: 0.4865 - val_accuracy: 0.8409\n",
      "Epoch 26/100\n",
      "2961/2961 [==============================] - 12s 4ms/step - loss: 0.3767 - accuracy: 0.8727 - val_loss: 0.4896 - val_accuracy: 0.8403\n",
      "Epoch 27/100\n",
      "2961/2961 [==============================] - 16s 5ms/step - loss: 0.3701 - accuracy: 0.8746 - val_loss: 0.4789 - val_accuracy: 0.8445\n",
      "Epoch 28/100\n",
      "2961/2961 [==============================] - 12s 4ms/step - loss: 0.3635 - accuracy: 0.8773 - val_loss: 0.4807 - val_accuracy: 0.8414\n",
      "Epoch 29/100\n",
      "2961/2961 [==============================] - 15s 5ms/step - loss: 0.3581 - accuracy: 0.8783 - val_loss: 0.4737 - val_accuracy: 0.8438\n",
      "Epoch 30/100\n",
      "2961/2961 [==============================] - 13s 4ms/step - loss: 0.3524 - accuracy: 0.8801 - val_loss: 0.4738 - val_accuracy: 0.8466\n",
      "Epoch 31/100\n",
      "2961/2961 [==============================] - 14s 5ms/step - loss: 0.3463 - accuracy: 0.8816 - val_loss: 0.4748 - val_accuracy: 0.8459\n",
      "Epoch 32/100\n",
      "2961/2961 [==============================] - 15s 5ms/step - loss: 0.3414 - accuracy: 0.8833 - val_loss: 0.4779 - val_accuracy: 0.8421\n",
      "Epoch 33/100\n",
      "2961/2961 [==============================] - 15s 5ms/step - loss: 0.3364 - accuracy: 0.8842 - val_loss: 0.4682 - val_accuracy: 0.8445\n",
      "Epoch 34/100\n",
      "2961/2961 [==============================] - 15s 5ms/step - loss: 0.3316 - accuracy: 0.8860 - val_loss: 0.4714 - val_accuracy: 0.8452\n",
      "Epoch 35/100\n",
      "2961/2961 [==============================] - 16s 5ms/step - loss: 0.3260 - accuracy: 0.8874 - val_loss: 0.4769 - val_accuracy: 0.8401\n",
      "Epoch 36/100\n",
      "2961/2961 [==============================] - 16s 5ms/step - loss: 0.3227 - accuracy: 0.8887 - val_loss: 0.4768 - val_accuracy: 0.8447\n",
      "Epoch 37/100\n",
      "2961/2961 [==============================] - 17s 6ms/step - loss: 0.3179 - accuracy: 0.8907 - val_loss: 0.4709 - val_accuracy: 0.8418\n",
      "Epoch 38/100\n",
      "2961/2961 [==============================] - 17s 6ms/step - loss: 0.3136 - accuracy: 0.8915 - val_loss: 0.4704 - val_accuracy: 0.8481\n",
      "Epoch 39/100\n",
      "2961/2961 [==============================] - 16s 5ms/step - loss: 0.3091 - accuracy: 0.8923 - val_loss: 0.4645 - val_accuracy: 0.8440\n",
      "Epoch 40/100\n",
      "2961/2961 [==============================] - 16s 6ms/step - loss: 0.3046 - accuracy: 0.8950 - val_loss: 0.4673 - val_accuracy: 0.8503\n",
      "Epoch 41/100\n",
      "2961/2961 [==============================] - 17s 6ms/step - loss: 0.3015 - accuracy: 0.8947 - val_loss: 0.4676 - val_accuracy: 0.8458\n",
      "Epoch 42/100\n",
      "2961/2961 [==============================] - 17s 6ms/step - loss: 0.2969 - accuracy: 0.8969 - val_loss: 0.4741 - val_accuracy: 0.8481\n",
      "Epoch 43/100\n",
      "2961/2961 [==============================] - 16s 5ms/step - loss: 0.2933 - accuracy: 0.8976 - val_loss: 0.4679 - val_accuracy: 0.8471\n",
      "Epoch 44/100\n",
      "2961/2961 [==============================] - 17s 6ms/step - loss: 0.2892 - accuracy: 0.8988 - val_loss: 0.4662 - val_accuracy: 0.8465\n",
      "Epoch 45/100\n",
      "2961/2961 [==============================] - 15s 5ms/step - loss: 0.2862 - accuracy: 0.9001 - val_loss: 0.4663 - val_accuracy: 0.8476\n",
      "Epoch 46/100\n",
      "2961/2961 [==============================] - 16s 5ms/step - loss: 0.2826 - accuracy: 0.9015 - val_loss: 0.4677 - val_accuracy: 0.8455\n",
      "Epoch 47/100\n",
      "2961/2961 [==============================] - 16s 6ms/step - loss: 0.2791 - accuracy: 0.9025 - val_loss: 0.4669 - val_accuracy: 0.8485\n",
      "Epoch 48/100\n",
      "2961/2961 [==============================] - 15s 5ms/step - loss: 0.2768 - accuracy: 0.9032 - val_loss: 0.4674 - val_accuracy: 0.8504\n",
      "Epoch 49/100\n",
      "2961/2961 [==============================] - 14s 5ms/step - loss: 0.2725 - accuracy: 0.9055 - val_loss: 0.4701 - val_accuracy: 0.8475\n",
      "Epoch 50/100\n",
      "2961/2961 [==============================] - 16s 5ms/step - loss: 0.2698 - accuracy: 0.9054 - val_loss: 0.4663 - val_accuracy: 0.8500\n",
      "Epoch 51/100\n",
      "2961/2961 [==============================] - 16s 5ms/step - loss: 0.2666 - accuracy: 0.9064 - val_loss: 0.4699 - val_accuracy: 0.8512\n",
      "Epoch 52/100\n",
      "2961/2961 [==============================] - 16s 5ms/step - loss: 0.2634 - accuracy: 0.9076 - val_loss: 0.4666 - val_accuracy: 0.8503\n",
      "Epoch 53/100\n",
      "2961/2961 [==============================] - 17s 6ms/step - loss: 0.2606 - accuracy: 0.9083 - val_loss: 0.4680 - val_accuracy: 0.8491\n",
      "Epoch 54/100\n",
      "2961/2961 [==============================] - 16s 5ms/step - loss: 0.2575 - accuracy: 0.9097 - val_loss: 0.4718 - val_accuracy: 0.8430\n",
      "Epoch 55/100\n",
      "2961/2961 [==============================] - 18s 6ms/step - loss: 0.2550 - accuracy: 0.9104 - val_loss: 0.4739 - val_accuracy: 0.8433\n",
      "Epoch 56/100\n",
      "2961/2961 [==============================] - 16s 5ms/step - loss: 0.2522 - accuracy: 0.9115 - val_loss: 0.4771 - val_accuracy: 0.8455\n",
      "Epoch 57/100\n",
      "2961/2961 [==============================] - 16s 5ms/step - loss: 0.2491 - accuracy: 0.9120 - val_loss: 0.4707 - val_accuracy: 0.8481\n",
      "Epoch 58/100\n",
      "2961/2961 [==============================] - 15s 5ms/step - loss: 0.2460 - accuracy: 0.9137 - val_loss: 0.4721 - val_accuracy: 0.8523\n",
      "Epoch 59/100\n",
      "2961/2961 [==============================] - 16s 5ms/step - loss: 0.2438 - accuracy: 0.9137 - val_loss: 0.4727 - val_accuracy: 0.8507\n",
      "Epoch 60/100\n",
      "2961/2961 [==============================] - 16s 5ms/step - loss: 0.2410 - accuracy: 0.9156 - val_loss: 0.4765 - val_accuracy: 0.8483\n",
      "Epoch 61/100\n",
      "2961/2961 [==============================] - 16s 6ms/step - loss: 0.2386 - accuracy: 0.9154 - val_loss: 0.4760 - val_accuracy: 0.8474\n",
      "Epoch 62/100\n",
      "2961/2961 [==============================] - 17s 6ms/step - loss: 0.2358 - accuracy: 0.9173 - val_loss: 0.4762 - val_accuracy: 0.8481\n",
      "Epoch 63/100\n",
      "2961/2961 [==============================] - 16s 5ms/step - loss: 0.2337 - accuracy: 0.9181 - val_loss: 0.4806 - val_accuracy: 0.8502\n",
      "Epoch 64/100\n",
      "2961/2961 [==============================] - 16s 5ms/step - loss: 0.2314 - accuracy: 0.9182 - val_loss: 0.4859 - val_accuracy: 0.8476\n",
      "Epoch 65/100\n",
      "2961/2961 [==============================] - 17s 6ms/step - loss: 0.2286 - accuracy: 0.9201 - val_loss: 0.4799 - val_accuracy: 0.8508\n",
      "Epoch 66/100\n",
      "2961/2961 [==============================] - 16s 5ms/step - loss: 0.2261 - accuracy: 0.9208 - val_loss: 0.4814 - val_accuracy: 0.8517\n",
      "Epoch 67/100\n",
      "2961/2961 [==============================] - 16s 5ms/step - loss: 0.2238 - accuracy: 0.9214 - val_loss: 0.4854 - val_accuracy: 0.8431\n",
      "Epoch 68/100\n",
      "2961/2961 [==============================] - 16s 5ms/step - loss: 0.2217 - accuracy: 0.9219 - val_loss: 0.4790 - val_accuracy: 0.8523\n",
      "Epoch 69/100\n",
      "2961/2961 [==============================] - 16s 6ms/step - loss: 0.2199 - accuracy: 0.9227 - val_loss: 0.4803 - val_accuracy: 0.8494\n",
      "Epoch 70/100\n",
      "2961/2961 [==============================] - 16s 5ms/step - loss: 0.2173 - accuracy: 0.9236 - val_loss: 0.4829 - val_accuracy: 0.8487\n",
      "Epoch 71/100\n",
      "2961/2961 [==============================] - 17s 6ms/step - loss: 0.2151 - accuracy: 0.9244 - val_loss: 0.4903 - val_accuracy: 0.8454\n",
      "Epoch 72/100\n",
      "2961/2961 [==============================] - 17s 6ms/step - loss: 0.2128 - accuracy: 0.9253 - val_loss: 0.4888 - val_accuracy: 0.8472\n",
      "Epoch 73/100\n",
      "2961/2961 [==============================] - 15s 5ms/step - loss: 0.2110 - accuracy: 0.9261 - val_loss: 0.4863 - val_accuracy: 0.8477\n",
      "Epoch 74/100\n",
      "2961/2961 [==============================] - 16s 5ms/step - loss: 0.2090 - accuracy: 0.9270 - val_loss: 0.4856 - val_accuracy: 0.8498\n",
      "Epoch 75/100\n",
      "2961/2961 [==============================] - 18s 6ms/step - loss: 0.2064 - accuracy: 0.9281 - val_loss: 0.4921 - val_accuracy: 0.8532\n",
      "Epoch 76/100\n",
      "2961/2961 [==============================] - 15s 5ms/step - loss: 0.2045 - accuracy: 0.9288 - val_loss: 0.4911 - val_accuracy: 0.8444\n",
      "Epoch 77/100\n",
      "2961/2961 [==============================] - 16s 5ms/step - loss: 0.2029 - accuracy: 0.9292 - val_loss: 0.4976 - val_accuracy: 0.8446\n",
      "Epoch 78/100\n",
      "2961/2961 [==============================] - 15s 5ms/step - loss: 0.2010 - accuracy: 0.9299 - val_loss: 0.4948 - val_accuracy: 0.8501\n",
      "Epoch 79/100\n",
      "2961/2961 [==============================] - 15s 5ms/step - loss: 0.1989 - accuracy: 0.9304 - val_loss: 0.4968 - val_accuracy: 0.8470\n",
      "Epoch 80/100\n",
      "2961/2961 [==============================] - 17s 6ms/step - loss: 0.1972 - accuracy: 0.9309 - val_loss: 0.5040 - val_accuracy: 0.8478\n",
      "Epoch 81/100\n",
      "2961/2961 [==============================] - 16s 5ms/step - loss: 0.1953 - accuracy: 0.9318 - val_loss: 0.5057 - val_accuracy: 0.8497\n",
      "Epoch 82/100\n",
      "2961/2961 [==============================] - 13s 4ms/step - loss: 0.1932 - accuracy: 0.9317 - val_loss: 0.5037 - val_accuracy: 0.8484\n",
      "Epoch 83/100\n",
      "2961/2961 [==============================] - 18s 6ms/step - loss: 0.1913 - accuracy: 0.9328 - val_loss: 0.4994 - val_accuracy: 0.8484\n",
      "Epoch 84/100\n",
      "2961/2961 [==============================] - 17s 6ms/step - loss: 0.1898 - accuracy: 0.9336 - val_loss: 0.5085 - val_accuracy: 0.8454\n",
      "Epoch 85/100\n",
      "2961/2961 [==============================] - 16s 6ms/step - loss: 0.1880 - accuracy: 0.9351 - val_loss: 0.5080 - val_accuracy: 0.8470\n",
      "Epoch 86/100\n",
      "2961/2961 [==============================] - 17s 6ms/step - loss: 0.1866 - accuracy: 0.9344 - val_loss: 0.5022 - val_accuracy: 0.8479\n",
      "Epoch 87/100\n",
      "2961/2961 [==============================] - 16s 5ms/step - loss: 0.1846 - accuracy: 0.9350 - val_loss: 0.5012 - val_accuracy: 0.8499\n",
      "Epoch 88/100\n",
      "2961/2961 [==============================] - 17s 6ms/step - loss: 0.1828 - accuracy: 0.9367 - val_loss: 0.5076 - val_accuracy: 0.8456\n",
      "Epoch 89/100\n",
      "2961/2961 [==============================] - 14s 5ms/step - loss: 0.1816 - accuracy: 0.9372 - val_loss: 0.5101 - val_accuracy: 0.8432\n",
      "Epoch 90/100\n",
      "2961/2961 [==============================] - 17s 6ms/step - loss: 0.1795 - accuracy: 0.9383 - val_loss: 0.5071 - val_accuracy: 0.8469\n",
      "Epoch 91/100\n",
      "2961/2961 [==============================] - 16s 5ms/step - loss: 0.1775 - accuracy: 0.9376 - val_loss: 0.5152 - val_accuracy: 0.8458\n",
      "Epoch 92/100\n",
      "2961/2961 [==============================] - 16s 5ms/step - loss: 0.1768 - accuracy: 0.9387 - val_loss: 0.5185 - val_accuracy: 0.8408\n",
      "Epoch 93/100\n",
      "2961/2961 [==============================] - 15s 5ms/step - loss: 0.1752 - accuracy: 0.9388 - val_loss: 0.5149 - val_accuracy: 0.8479\n",
      "Epoch 94/100\n",
      "2961/2961 [==============================] - 17s 6ms/step - loss: 0.1732 - accuracy: 0.9399 - val_loss: 0.5169 - val_accuracy: 0.8452\n",
      "Epoch 95/100\n",
      "2961/2961 [==============================] - 16s 5ms/step - loss: 0.1715 - accuracy: 0.9406 - val_loss: 0.5198 - val_accuracy: 0.8458\n",
      "Epoch 96/100\n",
      "2961/2961 [==============================] - 17s 6ms/step - loss: 0.1706 - accuracy: 0.9406 - val_loss: 0.5160 - val_accuracy: 0.8456\n",
      "Epoch 97/100\n",
      "2961/2961 [==============================] - 16s 5ms/step - loss: 0.1693 - accuracy: 0.9414 - val_loss: 0.5211 - val_accuracy: 0.8485\n",
      "Epoch 98/100\n",
      "2961/2961 [==============================] - 13s 4ms/step - loss: 0.1673 - accuracy: 0.9423 - val_loss: 0.5222 - val_accuracy: 0.8461\n",
      "Epoch 99/100\n",
      "2961/2961 [==============================] - 13s 4ms/step - loss: 0.1662 - accuracy: 0.9426 - val_loss: 0.5243 - val_accuracy: 0.8470\n",
      "Epoch 100/100\n",
      "2961/2961 [==============================] - 15s 5ms/step - loss: 0.1648 - accuracy: 0.9433 - val_loss: 0.5245 - val_accuracy: 0.8484\n",
      "823/823 [==============================] - 3s 3ms/step - loss: 0.5277 - accuracy: 0.8438\n"
     ]
    },
    {
     "data": {
      "image/png": "[encoded data removed]",
      "text/plain": [
       "<Figure size 432x288 with 1 Axes>"
      ]
     },
     "metadata": {
      "needs_background": "light"
     },
     "output_type": "display_data"
    }
   ],
   "source": [
    "\n",
    "#Optimizer learning Rate\n",
    "lr_schedule = tf.keras.optimizers.schedules.ExponentialDecay(\n",
    "    initial_learning_rate=0.01,\n",
    "    decay_steps=10000,\n",
    "    decay_rate=0.98)\n",
    "optimizer = keras.optimizers.SGD(learning_rate=lr_schedule)\n",
    "\n",
    "# Define Early Stopping after 3 epochs with no improvement \n",
    "callback = tf.keras.callbacks.EarlyStopping(monitor='accuracy', patience=3)\n",
    "\n",
    "# ANN construction with 3 hidden layers\n",
    "num_classes = 47\n",
    "model = Sequential()\n",
    "model.add(Dense(256, activation='relu',input_shape=(image_vector_size,)))\n",
    "model.add(Dense(256, activation='relu'))\n",
    "model.add(Dense(units=num_classes, activation='softmax'))\n",
    "model.compile(optimizer=keras.optimizers.SGD(learning_rate = lr_schedule), loss=\"sparse_categorical_crossentropy\", metrics=['accuracy'])\n",
    "\n",
    "# Print the details of the ANN\n",
    "model.summary()\n",
    "\n",
    "#Training and testing model\n",
    "history = model.fit(x_train, y_train, batch_size=32, epochs=100, verbose=True, validation_split=.1) #0.1 of training set is used for validation\n",
    "loss, accuracy  = model.evaluate(x_test, y_test, verbose=True)\n",
    "\n",
    "# Graph of accuracy\n",
    "plt.plot(history.history['accuracy'])\n",
    "plt.plot(history.history['val_accuracy'])\n",
    "plt.title('model accuracy')\n",
    "plt.ylabel('accuracy')\n",
    "plt.xlabel('epoch')\n",
    "plt.legend(['training', 'validation'], loc='best')\n",
    "plt.show()\n",
    "\n"
   ]
  },
  {
   "cell_type": "markdown",
   "id": "e622a04c",
   "metadata": {},
   "source": [
    "# Details of Labels Accuracy"
   ]
  },
  {
   "cell_type": "code",
   "execution_count": 49,
   "id": "5fb6b2cc",
   "metadata": {},
   "outputs": [
    {
     "name": "stdout",
     "output_type": "stream",
     "text": [
      "823/823 [==============================] - 3s 4ms/step\n",
      "(26320, 62)\n",
      "(26320,)\n",
      "              precision    recall  f1-score   support\n",
      "\n",
      "           0       0.65      0.60      0.62       560\n",
      "           1       0.54      0.66      0.60       560\n",
      "           2       0.85      0.88      0.86       560\n",
      "           3       0.96      0.92      0.94       560\n",
      "           4       0.86      0.89      0.87       560\n",
      "           5       0.82      0.87      0.84       560\n",
      "           6       0.90      0.90      0.90       560\n",
      "           7       0.95      0.95      0.95       560\n",
      "           8       0.88      0.88      0.88       560\n",
      "           9       0.66      0.78      0.72       560\n",
      "          10       0.91      0.92      0.91       560\n",
      "          11       0.89      0.90      0.89       560\n",
      "          12       0.95      0.94      0.94       560\n",
      "          13       0.89      0.93      0.91       560\n",
      "          14       0.95      0.91      0.93       560\n",
      "          15       0.63      0.54      0.58       560\n",
      "          16       0.90      0.86      0.88       560\n",
      "          17       0.92      0.93      0.92       560\n",
      "          18       0.71      0.49      0.58       560\n",
      "          19       0.88      0.88      0.88       560\n",
      "          20       0.92      0.89      0.91       560\n",
      "          21       0.54      0.59      0.57       560\n",
      "          22       0.95      0.93      0.94       560\n",
      "          23       0.90      0.94      0.92       560\n",
      "          24       0.62      0.68      0.65       560\n",
      "          25       0.94      0.92      0.93       560\n",
      "          26       0.87      0.89      0.88       560\n",
      "          27       0.92      0.89      0.90       560\n",
      "          28       0.86      0.84      0.85       560\n",
      "          29       0.91      0.95      0.93       560\n",
      "          30       0.92      0.90      0.91       560\n",
      "          31       0.90      0.93      0.91       560\n",
      "          32       0.95      0.95      0.95       560\n",
      "          33       0.95      0.93      0.94       560\n",
      "          34       0.84      0.84      0.84       560\n",
      "          35       0.90      0.83      0.86       560\n",
      "          36       0.86      0.82      0.84       560\n",
      "          37       0.88      0.90      0.89       560\n",
      "          38       0.94      0.93      0.93       560\n",
      "          39       0.92      0.93      0.92       560\n",
      "          40       0.59      0.67      0.63       560\n",
      "          41       0.64      0.60      0.62       560\n",
      "          42       0.92      0.91      0.91       560\n",
      "          43       0.92      0.89      0.91       560\n",
      "          44       0.59      0.57      0.58       560\n",
      "          45       0.90      0.94      0.92       560\n",
      "          46       0.89      0.87      0.88       560\n",
      "\n",
      "    accuracy                           0.84     26320\n",
      "   macro avg       0.84      0.84      0.84     26320\n",
      "weighted avg       0.84      0.84      0.84     26320\n",
      "\n"
     ]
    }
   ],
   "source": [
    "predict_x=model.predict(x_test) \n",
    "print(predict_x.shape)\n",
    "classes_x=np.argmax(predict_x,axis=1)\n",
    "print(classes_x.shape)\n",
    "print(classification_report(y_test,classes_x))"
   ]
  },
  {
   "cell_type": "markdown",
   "id": "1a0c10ef",
   "metadata": {},
   "source": [
    "# Confusion Matrix for accuracy metrics visualization"
   ]
  },
  {
   "cell_type": "code",
   "execution_count": 37,
   "id": "30edfabb",
   "metadata": {},
   "outputs": [
    {
     "name": "stdout",
     "output_type": "stream",
     "text": [
      "718/718 [==============================] - 1s 1ms/step\n",
      "[[550   0   0 ...   0   1   1]\n",
      " [  1 479   0 ...   0   0   1]\n",
      " [  0   2 510 ...   0   0   0]\n",
      " ...\n",
      " [  0   0   0 ... 500   2   0]\n",
      " [  0   0   0 ...   4 532   3]\n",
      " [  4   0   0 ...   0   3 497]]\n"
     ]
    },
    {
     "data": {
      "image/png": "[encoded data removed]",
      "text/plain": [
       "<Figure size 720x504 with 2 Axes>"
      ]
     },
     "metadata": {
      "needs_background": "light"
     },
     "output_type": "display_data"
    }
   ],
   "source": [
    "pred = model.predict(x_test)\n",
    "pred = np.argmax(pred,axis=1)\n",
    "truth = y_test\n",
    "CFM = confusion_matrix(truth, pred)\n",
    "df_cm = pd.DataFrame(CFM)\n",
    "plt.figure(figsize = (10,7))\n",
    "sn.heatmap(df_cm, annot=True)\n",
    "print(CFM)"
   ]
  },
  {
   "cell_type": "markdown",
   "id": "57a95f05",
   "metadata": {},
   "source": [
    "# Saving trained model"
   ]
  },
  {
   "cell_type": "code",
   "execution_count": 8,
   "id": "5dd4d5fb",
   "metadata": {},
   "outputs": [
    {
     "ename": "NameError",
     "evalue": "name 'model' is not defined",
     "output_type": "error",
     "traceback": [
      "\u001b[1;31m---------------------------------------------------------------------------\u001b[0m",
      "\u001b[1;31mNameError\u001b[0m                                 Traceback (most recent call last)",
      "\u001b[1;32m~\\AppData\\Local\\Temp/ipykernel_12336/774152262.py\u001b[0m in \u001b[0;36m<module>\u001b[1;34m\u001b[0m\n\u001b[1;32m----> 1\u001b[1;33m \u001b[0mmodel\u001b[0m\u001b[1;33m.\u001b[0m\u001b[0msave\u001b[0m\u001b[1;33m(\u001b[0m\u001b[1;34m\"ANN\"\u001b[0m\u001b[1;33m)\u001b[0m\u001b[1;33m\u001b[0m\u001b[1;33m\u001b[0m\u001b[0m\n\u001b[0m",
      "\u001b[1;31mNameError\u001b[0m: name 'model' is not defined"
     ]
    }
   ],
   "source": [
    "model.save(\"ANN\")"
   ]
  },
  {
   "cell_type": "markdown",
   "id": "84b7686c",
   "metadata": {},
   "source": [
    "# Load Model and Prediction"
   ]
  },
  {
   "cell_type": "code",
   "execution_count": 9,
   "id": "ae17a6df",
   "metadata": {},
   "outputs": [
    {
     "name": "stdout",
     "output_type": "stream",
     "text": [
      "Model: \"sequential_1\"\n",
      "_________________________________________________________________\n",
      " Layer (type)                Output Shape              Param #   \n",
      "=================================================================\n",
      " dense_3 (Dense)             (None, 256)               200960    \n",
      "                                                                 \n",
      " dense_4 (Dense)             (None, 256)               65792     \n",
      "                                                                 \n",
      " dense_5 (Dense)             (None, 47)                12079     \n",
      "                                                                 \n",
      "=================================================================\n",
      "Total params: 278,831\n",
      "Trainable params: 278,831\n",
      "Non-trainable params: 0\n",
      "_________________________________________________________________\n"
     ]
    }
   ],
   "source": [
    "new_model = keras.models.load_model(\"ANN\")\n",
    "new_model.summary()"
   ]
  },
  {
   "cell_type": "code",
   "execution_count": 36,
   "id": "a8db7cbe",
   "metadata": {},
   "outputs": [
    {
     "name": "stdout",
     "output_type": "stream",
     "text": [
      "1/1 [==============================] - 0s 32ms/step\n",
      "43\n"
     ]
    }
   ],
   "source": [
    "#Use this code if you want to test ANN by your file\n",
    "import cv2\n",
    "file = r'extra_samples\\n.png'   #Insert file path.\n",
    "img = cv2.imread(file)\n",
    "gray = cv2.cvtColor(img, cv2.COLOR_BGR2GRAY)\n",
    "data = gray.reshape(1,784)\n",
    "data =  np.array(data)\n",
    "anwser = new_model.predict(data).argmax()\n",
    "print(anwser)"
   ]
  },
  {
   "cell_type": "code",
   "execution_count": null,
   "id": "50a7f361",
   "metadata": {},
   "outputs": [],
   "source": []
  },
  {
   "cell_type": "code",
   "execution_count": null,
   "id": "864c1b4b",
   "metadata": {},
   "outputs": [],
   "source": []
  }
 ],
 "metadata": {
  "celltoolbar": "Slideshow",
  "kernelspec": {
   "display_name": "Python 3 (ipykernel)",
   "language": "python",
   "name": "python3"
  },
  "language_info": {
   "codemirror_mode": {
    "name": "ipython",
    "version": 3
   },
   "file_extension": ".py",
   "mimetype": "text/x-python",
   "name": "python",
   "nbconvert_exporter": "python",
   "pygments_lexer": "ipython3",
   "version": "3.10.1"
  },
  "vscode": {
   "interpreter": {
    "hash": "fbc768028c3e6ead51d9a200ddcb2ec858ae62844dcd1994729a8279be9b48f2"
   }
  }
 },
 "nbformat": 4,
 "nbformat_minor": 5
}
