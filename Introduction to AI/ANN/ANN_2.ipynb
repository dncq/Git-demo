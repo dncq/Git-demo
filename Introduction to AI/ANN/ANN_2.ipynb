{
 "cells": [
  {
   "cell_type": "markdown",
   "id": "99eb15ac",
   "metadata": {},
   "source": [
    "#                       Data preprocessing"
   ]
  },
  {
   "cell_type": "code",
   "execution_count": 5,
   "id": "74eccd27",
   "metadata": {},
   "outputs": [
    {
     "data": {
      "text/plain": [
       "['balanced', 'byclass', 'bymerge', 'digits', 'letters', 'mnist']"
      ]
     },
     "execution_count": 5,
     "metadata": {},
     "output_type": "execute_result"
    }
   ],
   "source": [
    "from emnist import list_datasets\n",
    "list_datasets()"
   ]
  },
  {
   "cell_type": "code",
   "execution_count": 11,
   "id": "065aaab6",
   "metadata": {},
   "outputs": [],
   "source": [
    "#Install EMNIST library, import datasets of letters, Matplotlib\n",
    "\n",
    "from emnist import list_datasets\n",
    "import matplotlib as mpl\n",
    "import matplotlib.pyplot as plt\n",
    "%matplotlib inline\n",
    "from emnist import extract_training_samples\n",
    "from emnist import extract_test_samples\n",
    "test_images, test_labels = extract_test_samples(\"bymerge\")\n",
    "images, labels = extract_training_samples(\"bymerge\")\n",
    "# images.shape #(697932, 28, 28)\n",
    "# test_images.shape #(116323, 28, 28)\n"
   ]
  },
  {
   "cell_type": "code",
   "execution_count": 12,
   "id": "8bc43a7e",
   "metadata": {},
   "outputs": [],
   "source": [
    "# #Let's print first letters from EMNIST training samples\n",
    "# sample_letter = images[0]\n",
    "# sample_letter_resize = sample_letter.reshape(28, 28)\n",
    "# plt.imshow(sample_letter_resize, cmap = 'binary')\n",
    "# plt.axis(\"off\")\n",
    "# plt.show()\n",
    "# #Let's print first 10 letters from EMINST training samples\n",
    "# for i in range(10,20):\n",
    "#     first_ten_letters = images[i].reshape((28, 28))\n",
    "#     plt.imshow(first_ten_letters, cmap = 'binary')\n",
    "#     #plt.axis(\"off\")\n",
    "#     plt.show()\n"
   ]
  },
  {
   "cell_type": "code",
   "execution_count": 13,
   "id": "86afd858",
   "metadata": {
    "scrolled": false
   },
   "outputs": [
    {
     "name": "stdout",
     "output_type": "stream",
     "text": [
      "Training data shape:  (558345, 28, 28)\n",
      "Test data shape (139587, 28, 28)\n",
      "y_train.shape = (558345,)\n",
      "(558345, 784)\n",
      "(558345,)\n",
      "Model: \"sequential\"\n",
      "_________________________________________________________________\n",
      " Layer (type)                Output Shape              Param #   \n",
      "=================================================================\n",
      " dense (Dense)               (None, 300)               235500    \n",
      "                                                                 \n",
      " dense_1 (Dense)             (None, 62)                18662     \n",
      "                                                                 \n",
      "=================================================================\n",
      "Total params: 254,162\n",
      "Trainable params: 254,162\n",
      "Non-trainable params: 0\n",
      "_________________________________________________________________\n",
      "Epoch 1/20\n",
      "15704/15704 [==============================] - 62s 4ms/step - loss: 0.5349 - accuracy: 0.8290 - val_loss: 0.4276 - val_accuracy: 0.8532\n",
      "Epoch 2/20\n",
      "15704/15704 [==============================] - 60s 4ms/step - loss: 0.3960 - accuracy: 0.8648 - val_loss: 0.3958 - val_accuracy: 0.8673\n",
      "Epoch 3/20\n",
      "15704/15704 [==============================] - 59s 4ms/step - loss: 0.3699 - accuracy: 0.8719 - val_loss: 0.3893 - val_accuracy: 0.8680\n",
      "Epoch 4/20\n",
      "15704/15704 [==============================] - 61s 4ms/step - loss: 0.3558 - accuracy: 0.8751 - val_loss: 0.4023 - val_accuracy: 0.8621\n",
      "Epoch 5/20\n",
      "15704/15704 [==============================] - 60s 4ms/step - loss: 0.3453 - accuracy: 0.8779 - val_loss: 0.3975 - val_accuracy: 0.8671\n",
      "Epoch 6/20\n",
      "15704/15704 [==============================] - 59s 4ms/step - loss: 0.3373 - accuracy: 0.8804 - val_loss: 0.3995 - val_accuracy: 0.8697\n",
      "Epoch 7/20\n",
      "15704/15704 [==============================] - 60s 4ms/step - loss: 0.3307 - accuracy: 0.8825 - val_loss: 0.3966 - val_accuracy: 0.8709\n",
      "Epoch 8/20\n",
      "15704/15704 [==============================] - 61s 4ms/step - loss: 0.3252 - accuracy: 0.8842 - val_loss: 0.4137 - val_accuracy: 0.8668\n",
      "Epoch 9/20\n",
      "15704/15704 [==============================] - 82s 5ms/step - loss: 0.3204 - accuracy: 0.8853 - val_loss: 0.4099 - val_accuracy: 0.8677\n",
      "Epoch 10/20\n",
      "15704/15704 [==============================] - 73s 5ms/step - loss: 0.3162 - accuracy: 0.8867 - val_loss: 0.4191 - val_accuracy: 0.8683\n",
      "Epoch 11/20\n",
      "15704/15704 [==============================] - 72s 5ms/step - loss: 0.3117 - accuracy: 0.8878 - val_loss: 0.4259 - val_accuracy: 0.8699\n",
      "Epoch 12/20\n",
      "15704/15704 [==============================] - 60s 4ms/step - loss: 0.3088 - accuracy: 0.8883 - val_loss: 0.4341 - val_accuracy: 0.8674\n",
      "Epoch 13/20\n",
      "15704/15704 [==============================] - 62s 4ms/step - loss: 0.3064 - accuracy: 0.8891 - val_loss: 0.4289 - val_accuracy: 0.8702\n",
      "Epoch 14/20\n",
      "15704/15704 [==============================] - 58s 4ms/step - loss: 0.3038 - accuracy: 0.8897 - val_loss: 0.4365 - val_accuracy: 0.8707\n",
      "Epoch 15/20\n",
      "15704/15704 [==============================] - 59s 4ms/step - loss: 0.3008 - accuracy: 0.8910 - val_loss: 0.4512 - val_accuracy: 0.8664\n",
      "Epoch 16/20\n",
      "15704/15704 [==============================] - 61s 4ms/step - loss: 0.2977 - accuracy: 0.8913 - val_loss: 0.4595 - val_accuracy: 0.8663\n",
      "Epoch 17/20\n",
      "15704/15704 [==============================] - 59s 4ms/step - loss: 0.2957 - accuracy: 0.8921 - val_loss: 0.4530 - val_accuracy: 0.8652\n",
      "Epoch 18/20\n",
      "15704/15704 [==============================] - 66s 4ms/step - loss: 0.2936 - accuracy: 0.8926 - val_loss: 0.4592 - val_accuracy: 0.8700\n",
      "Epoch 19/20\n",
      "15704/15704 [==============================] - 62s 4ms/step - loss: 0.2913 - accuracy: 0.8931 - val_loss: 0.4809 - val_accuracy: 0.8654\n",
      "Epoch 20/20\n",
      "15704/15704 [==============================] - 63s 4ms/step - loss: 0.2891 - accuracy: 0.8941 - val_loss: 0.4725 - val_accuracy: 0.8662\n",
      "4363/4363 [==============================] - 13s 3ms/step - loss: 0.4760 - accuracy: 0.8656\n"
     ]
    },
    {
     "data": {
      "image/png": "[encoded data removed]",
      "text/plain": [
       "<Figure size 432x288 with 1 Axes>"
      ]
     },
     "metadata": {
      "needs_background": "light"
     },
     "output_type": "display_data"
    },
    {
     "name": "stdout",
     "output_type": "stream",
     "text": [
      "Test loss: 0.476\n"
     ]
    }
   ],
   "source": [
    "import keras\n",
    "import tensorflow as tf\n",
    "from keras.datasets import mnist\n",
    "from keras.layers import Dense # Dense layers are \"fully connected\" layers\n",
    "from keras.models import Sequential # Documentation: https://keras.io/models/sequential/\n",
    "import matplotlib.pyplot as plt\n",
    "from sklearn.model_selection import train_test_split\n",
    "my_data = images\n",
    "my_label = labels\n",
    "x_train, x_test,y_train, y_test = train_test_split(my_data,my_label,test_size = 0.2, random_state = 365)\n",
    "print(\"Training data shape: \", x_train.shape) # (60000, 28, 28) -- 60000 images, each 28x28 pixels\n",
    "print(\"Test data shape\", x_test.shape) # (10000, 28, 28) -- 10000 images, each 28x28\n",
    "print(\"y_train.shape =\",y_train.shape)\n",
    "x_train = x_train.astype('float32')/255\n",
    "x_test = x_test.astype('float32')/255\n",
    "# Flatten the images\n",
    "image_vector_size = 28*28\n",
    "x_train = x_train.reshape(x_train.shape[0], image_vector_size)\n",
    "x_test = x_test.reshape(x_test.shape[0], image_vector_size)\n",
    "\n",
    "image_size = 28*28 # 28*28\n",
    "num_classes = 47 # ten unique digits\n",
    "\n",
    "print(x_train.shape)\n",
    "print(y_train.shape)\n",
    "\n",
    "model = Sequential()\n",
    "\n",
    "# The input layer requires the special input_shape parameter which should match\n",
    "# the shape of our training data.\n",
    "model.add(Dense(units= 300, activation='relu', input_shape=(image_size,)))\n",
    "# model.add(Dense(units = 256, activation=\"softplus\"))\n",
    "# model.add(Dense(units = 256, activation=\"elu\"))\n",
    "model.add(Dense(units=62, activation='softmax'))\n",
    "\n",
    "model.summary()\n",
    "\n",
    "# x_train = x_train.reshape(x_train.shape[0], image_vector_size)\n",
    "# x_test = x_test.reshape(x_test.shape[0], image_vector_size)\n",
    "\n",
    "\n",
    "model.compile(optimizer=\"adam\", loss=\"sparse_categorical_crossentropy\", metrics=['accuracy'])\n",
    "history = model.fit(x_train, y_train, batch_size=32, epochs=20, verbose=True, validation_split=.1)\n",
    "loss, accuracy  = model.evaluate(x_test, y_test, verbose=True)\n",
    "\n",
    "plt.plot(history.history['accuracy'])\n",
    "plt.plot(history.history['val_accuracy'])\n",
    "plt.title('model accuracy')\n",
    "plt.ylabel('accuracy')\n",
    "plt.xlabel('epoch')\n",
    "plt.legend(['training', 'validation'], loc='best')\n",
    "plt.show()\n",
    "\n",
    "print(f'Test loss: {loss:.3}')"
   ]
  },
  {
   "cell_type": "code",
   "execution_count": 14,
   "id": "320b4d25",
   "metadata": {},
   "outputs": [],
   "source": [
    "import pickle\n",
    "with open('test_data.pickle','wb') as file:\n",
    "    pickle.dump(my_data, file)"
   ]
  },
  {
   "cell_type": "code",
   "execution_count": 15,
   "id": "ae17a6df",
   "metadata": {},
   "outputs": [],
   "source": [
    "with open('test_label.pickle','wb') as file:\n",
    "    pickle.dump(my_label, file)"
   ]
  },
  {
   "cell_type": "code",
   "execution_count": null,
   "id": "8afced58",
   "metadata": {},
   "outputs": [],
   "source": [
    "#starting time: 9h15pm\n",
    "#ending time: 12h25pm"
   ]
  },
  {
   "cell_type": "code",
   "execution_count": null,
   "id": "2b276e16",
   "metadata": {},
   "outputs": [],
   "source": []
  },
  {
   "cell_type": "code",
   "execution_count": null,
   "id": "6f84e9cd",
   "metadata": {},
   "outputs": [],
   "source": []
  },
  {
   "cell_type": "code",
   "execution_count": null,
   "id": "eafdfa2a",
   "metadata": {},
   "outputs": [],
   "source": []
  },
  {
   "cell_type": "code",
   "execution_count": null,
   "id": "53d3715b",
   "metadata": {},
   "outputs": [],
   "source": []
  },
  {
   "cell_type": "code",
   "execution_count": null,
   "id": "f287b4d9",
   "metadata": {},
   "outputs": [],
   "source": []
  },
  {
   "cell_type": "code",
   "execution_count": null,
   "id": "77c365ca",
   "metadata": {},
   "outputs": [],
   "source": []
  },
  {
   "cell_type": "code",
   "execution_count": null,
   "id": "c1d31b80",
   "metadata": {},
   "outputs": [],
   "source": []
  },
  {
   "cell_type": "code",
   "execution_count": null,
   "id": "96f33c04",
   "metadata": {},
   "outputs": [],
   "source": []
  },
  {
   "cell_type": "code",
   "execution_count": null,
   "id": "5b7350fa",
   "metadata": {},
   "outputs": [],
   "source": []
  },
  {
   "cell_type": "code",
   "execution_count": null,
   "id": "78119c34",
   "metadata": {},
   "outputs": [],
   "source": []
  },
  {
   "cell_type": "code",
   "execution_count": null,
   "id": "29302e07",
   "metadata": {},
   "outputs": [],
   "source": []
  }
 ],
 "metadata": {
  "celltoolbar": "Slideshow",
  "kernelspec": {
   "display_name": "Python 3 (ipykernel)",
   "language": "python",
   "name": "python3"
  },
  "language_info": {
   "codemirror_mode": {
    "name": "ipython",
    "version": 3
   },
   "file_extension": ".py",
   "mimetype": "text/x-python",
   "name": "python",
   "nbconvert_exporter": "python",
   "pygments_lexer": "ipython3",
   "version": "3.10.1"
  },
  "vscode": {
   "interpreter": {
    "hash": "fbc768028c3e6ead51d9a200ddcb2ec858ae62844dcd1994729a8279be9b48f2"
   }
  }
 },
 "nbformat": 4,
 "nbformat_minor": 5
}
