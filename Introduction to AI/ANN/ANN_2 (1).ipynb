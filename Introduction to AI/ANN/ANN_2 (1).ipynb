{
 "cells": [
  {
   "cell_type": "code",
   "execution_count": 1,
   "id": "86afd858",
   "metadata": {
    "scrolled": false
   },
   "outputs": [
    {
     "name": "stdout",
     "output_type": "stream",
     "text": [
      "Training data shape:  (78960, 28, 28)\n",
      "Test data shape (33840, 28, 28)\n",
      "y_train.shape = (78960,)\n",
      "(78960, 784)\n",
      "(78960,)\n",
      "Model: \"sequential\"\n",
      "_________________________________________________________________\n",
      " Layer (type)                Output Shape              Param #   \n",
      "=================================================================\n",
      " dense (Dense)               (None, 300)               235500    \n",
      "                                                                 \n",
      " dense_1 (Dense)             (None, 62)                18662     \n",
      "                                                                 \n",
      "=================================================================\n",
      "Total params: 254,162\n",
      "Trainable params: 254,162\n",
      "Non-trainable params: 0\n",
      "_________________________________________________________________\n",
      "Epoch 1/20\n",
      "2221/2221 [==============================] - 12s 5ms/step - loss: 1.0692 - accuracy: 0.6891 - val_loss: 0.7347 - val_accuracy: 0.7708\n",
      "Epoch 2/20\n",
      "2221/2221 [==============================] - 11s 5ms/step - loss: 0.6302 - accuracy: 0.8007 - val_loss: 0.5919 - val_accuracy: 0.8145\n",
      "Epoch 3/20\n",
      "2221/2221 [==============================] - 11s 5ms/step - loss: 0.5186 - accuracy: 0.8294 - val_loss: 0.5643 - val_accuracy: 0.8161\n",
      "Epoch 4/20\n",
      "2221/2221 [==============================] - 12s 5ms/step - loss: 0.4550 - accuracy: 0.8465 - val_loss: 0.5461 - val_accuracy: 0.8205\n",
      "Epoch 5/20\n",
      "2221/2221 [==============================] - 12s 6ms/step - loss: 0.4087 - accuracy: 0.8587 - val_loss: 0.5308 - val_accuracy: 0.8280\n",
      "Epoch 6/20\n",
      "2221/2221 [==============================] - 13s 6ms/step - loss: 0.3758 - accuracy: 0.8661 - val_loss: 0.5374 - val_accuracy: 0.8328\n",
      "Epoch 7/20\n",
      "2221/2221 [==============================] - 11s 5ms/step - loss: 0.3471 - accuracy: 0.8748 - val_loss: 0.5437 - val_accuracy: 0.8318\n",
      "Epoch 8/20\n",
      "2221/2221 [==============================] - 10s 4ms/step - loss: 0.3222 - accuracy: 0.8813 - val_loss: 0.5572 - val_accuracy: 0.8311\n",
      "Epoch 9/20\n",
      "2221/2221 [==============================] - 10s 5ms/step - loss: 0.3021 - accuracy: 0.8886 - val_loss: 0.5624 - val_accuracy: 0.8308\n",
      "Epoch 10/20\n",
      "2221/2221 [==============================] - 11s 5ms/step - loss: 0.2850 - accuracy: 0.8948 - val_loss: 0.5672 - val_accuracy: 0.8299\n",
      "Epoch 11/20\n",
      "2221/2221 [==============================] - 10s 5ms/step - loss: 0.2675 - accuracy: 0.8982 - val_loss: 0.5940 - val_accuracy: 0.8307\n",
      "Epoch 12/20\n",
      "2221/2221 [==============================] - 10s 5ms/step - loss: 0.2522 - accuracy: 0.9039 - val_loss: 0.5889 - val_accuracy: 0.8316\n",
      "Epoch 13/20\n",
      "2221/2221 [==============================] - 10s 5ms/step - loss: 0.2388 - accuracy: 0.9090 - val_loss: 0.6256 - val_accuracy: 0.8245\n",
      "Epoch 14/20\n",
      "2221/2221 [==============================] - 10s 5ms/step - loss: 0.2292 - accuracy: 0.9117 - val_loss: 0.6342 - val_accuracy: 0.8271\n",
      "Epoch 15/20\n",
      "2221/2221 [==============================] - 10s 4ms/step - loss: 0.2171 - accuracy: 0.9146 - val_loss: 0.6651 - val_accuracy: 0.8270\n",
      "Epoch 16/20\n",
      "2221/2221 [==============================] - 11s 5ms/step - loss: 0.2085 - accuracy: 0.9187 - val_loss: 0.6921 - val_accuracy: 0.8248\n",
      "Epoch 17/20\n",
      "2221/2221 [==============================] - 10s 5ms/step - loss: 0.2005 - accuracy: 0.9211 - val_loss: 0.6855 - val_accuracy: 0.8284\n",
      "Epoch 18/20\n",
      "2221/2221 [==============================] - 11s 5ms/step - loss: 0.1895 - accuracy: 0.9246 - val_loss: 0.7131 - val_accuracy: 0.8231\n",
      "Epoch 19/20\n",
      "2221/2221 [==============================] - 11s 5ms/step - loss: 0.1854 - accuracy: 0.9261 - val_loss: 0.7334 - val_accuracy: 0.8232\n",
      "Epoch 20/20\n",
      "2221/2221 [==============================] - 11s 5ms/step - loss: 0.1755 - accuracy: 0.9305 - val_loss: 0.7474 - val_accuracy: 0.8256\n",
      "1058/1058 [==============================] - 3s 3ms/step - loss: 0.7942 - accuracy: 0.8181\n",
      "[0.7707700133323669, 0.8144630193710327, 0.8161094188690186, 0.82054203748703, 0.8280141949653625, 0.8328267335891724, 0.8318135738372803, 0.8310536742210388, 0.8308004140853882, 0.829913854598999, 0.8306737542152405, 0.8315602540969849, 0.8244680762290955, 0.8271276354789734, 0.8270010352134705, 0.8248479962348938, 0.8283941149711609, 0.823074996471405, 0.823201596736908, 0.8256078958511353]\n"
     ]
    },
    {
     "data": {
      "image/png": "[encoded data removed]",
      "text/plain": [
       "<Figure size 432x288 with 1 Axes>"
      ]
     },
     "metadata": {
      "needs_background": "light"
     },
     "output_type": "display_data"
    },
    {
     "name": "stdout",
     "output_type": "stream",
     "text": [
      "Test loss: 0.794\n"
     ]
    }
   ],
   "source": [
    "from emnist import list_datasets\n",
    "import matplotlib as mpl\n",
    "import matplotlib.pyplot as plt\n",
    "import keras\n",
    "import tensorflow as tf\n",
    "from emnist import extract_training_samples, extract_test_samples\n",
    "from keras.layers import Dense # Dense layers are \"fully connected\" layers\n",
    "from keras.models import Sequential # Documentation: https://keras.io/models/sequential/\n",
    "from sklearn.model_selection import train_test_split\n",
    "from sklearn.metrics import classification_report\n",
    "import numpy as np\n",
    "\n",
    "#Balanced : 47 class, each has 2400 training samples (112800) and 400 test samples (18800)\n",
    "test_data, test_label =  extract_test_samples(\"balanced\")\n",
    "images, labels = extract_training_samples(\"balanced\")\n",
    "images.shape\n",
    "my_data = images\n",
    "my_label = labels\n",
    "x_train, x_test,y_train, y_test = train_test_split(my_data,my_label,test_size = 0.3, random_state = 365,stratify = labels)\n",
    "print(\"Training data shape: \", x_train.shape) \n",
    "print(\"Test data shape\", x_test.shape)\n",
    "print(\"y_train.shape =\",y_train.shape)\n",
    "x_train = x_train.astype('float32') / 255\n",
    "x_test = x_test.astype('float32') / 255\n",
    "# Flatten the images\n",
    "image_vector_size = 28*28\n",
    "image_size = 784\n",
    "x_train = x_train.reshape(x_train.shape[0], image_vector_size)\n",
    "x_test = x_test.reshape(x_test.shape[0], image_vector_size)\n",
    "\n",
    "num_classes = 47\n",
    "\n",
    "print(x_train.shape)\n",
    "print(y_train.shape)\n",
    "\n",
    "model = Sequential()\n",
    "\n",
    "# The input layer requires the special input_shape parameter which should match\n",
    "# the shape of our training data.\n",
    "model.add(Dense(units=300, activation='relu', input_shape=(image_size,)))\n",
    "model.add(Dense(units=62, activation =\"softmax\"))\n",
    "\n",
    "\n",
    "model.summary()\n",
    "\n",
    "# x_train = x_train.reshape(x_train.shape[0], image_vector_size)\n",
    "# x_test = x_test.reshape(x_test.shape[0], image_vector_size)\n",
    "\n",
    "\n",
    "model.compile(optimizer=\"adam\", loss=\"sparse_categorical_crossentropy\", metrics=['accuracy'])\n",
    "history = model.fit(x_train, y_train, batch_size=32, epochs=20, verbose=True, validation_split=.1)\n",
    "loss, accuracy  = model.evaluate(x_test, y_test, verbose=True)\n",
    "\n",
    "plt.plot(history.history['accuracy'])\n",
    "plt.plot(history.history['val_accuracy'])\n",
    "acc = history.history['val_accuracy']\n",
    "print(acc)\n",
    "plt.title('model accuracy')\n",
    "plt.ylabel('accuracy')\n",
    "plt.xlabel('epoch')\n",
    "plt.legend(['training', 'validation'], loc='best')\n",
    "plt.show()\n",
    "\n",
    "\n",
    "print(f'Test loss: {loss:.3}')"
   ]
  },
  {
   "cell_type": "code",
   "execution_count": 14,
   "id": "5fb6b2cc",
   "metadata": {},
   "outputs": [
    {
     "name": "stdout",
     "output_type": "stream",
     "text": [
      "(112800,)\n",
      "(56400,)\n",
      "(56400,)\n"
     ]
    }
   ],
   "source": [
    "print(labels.shape)\n",
    "print(y_train.shape)\n",
    "print(y_test.shape)"
   ]
  },
  {
   "cell_type": "code",
   "execution_count": 5,
   "id": "fc9901a6",
   "metadata": {},
   "outputs": [
    {
     "name": "stderr",
     "output_type": "stream",
     "text": [
      "100%|█████████████████████████████████████████████████████████████████████████████████| 47/47 [00:00<00:00, 681.89it/s]"
     ]
    },
    {
     "name": "stdout",
     "output_type": "stream",
     "text": [
      "[0, 1, 2, 3, 4, 5, 6, 7, 8, 9, 10, 11, 12, 13, 14, 15, 16, 17, 18, 19, 20, 21, 22, 23, 24, 25, 26, 27, 28, 29, 30, 31, 32, 33, 34, 35, 36, 37, 38, 39, 40, 41, 42, 43, 44, 45, 46]\n"
     ]
    },
    {
     "name": "stderr",
     "output_type": "stream",
     "text": [
      "\n"
     ]
    },
    {
     "data": {
      "image/png": "[encoded data removed]",
      "text/plain": [
       "<Figure size 432x288 with 1 Axes>"
      ]
     },
     "metadata": {
      "needs_background": "light"
     },
     "output_type": "display_data"
    }
   ],
   "source": [
    "from tqdm import tqdm\n",
    "tmp=[]\n",
    "labels_tolist = labels.tolist()\n",
    "for i in tqdm(range(47)):\n",
    "    if labels_tolist.count(i) != 2300:\n",
    "        tmp.append(i)\n",
    "print(tmp)\n",
    "for i in range(len(x_train)):\n",
    "    if y_train[i] == 24:\n",
    "        tmp = x_train[i].reshape(28,28)\n",
    "        plt.imshow(tmp, cmap=\"gray\")\n",
    "        break"
   ]
  },
  {
   "cell_type": "code",
   "execution_count": 6,
   "id": "320b4d25",
   "metadata": {},
   "outputs": [
    {
     "ename": "NameError",
     "evalue": "name 'classes_x' is not defined",
     "output_type": "error",
     "traceback": [
      "\u001b[1;31m---------------------------------------------------------------------------\u001b[0m",
      "\u001b[1;31mNameError\u001b[0m                                 Traceback (most recent call last)",
      "Input \u001b[1;32mIn [6]\u001b[0m, in \u001b[0;36m<cell line: 11>\u001b[1;34m()\u001b[0m\n\u001b[0;32m      8\u001b[0m         cm[y_true[n], y_pred[n]] \u001b[38;5;241m+\u001b[39m\u001b[38;5;241m=\u001b[39m \u001b[38;5;241m1\u001b[39m\n\u001b[0;32m      9\u001b[0m     \u001b[38;5;28;01mreturn\u001b[39;00m cm \n\u001b[1;32m---> 11\u001b[0m cnf_matrix \u001b[38;5;241m=\u001b[39m my_confusion_matrix(y_test, \u001b[43mclasses_x\u001b[49m)\n\u001b[0;32m     12\u001b[0m \u001b[38;5;28mprint\u001b[39m(\u001b[38;5;124m'\u001b[39m\u001b[38;5;124mConfusion matrix:\u001b[39m\u001b[38;5;124m'\u001b[39m)\n\u001b[0;32m     13\u001b[0m \u001b[38;5;28mprint\u001b[39m(cnf_matrix)\n",
      "\u001b[1;31mNameError\u001b[0m: name 'classes_x' is not defined"
     ]
    }
   ],
   "source": [
    "import matplotlib.pyplot as plt\n",
    "import itertools\n",
    "\n",
    "def my_confusion_matrix(y_true, y_pred):\n",
    "    N = np.unique(y_true).shape[0] # number of classes \n",
    "    cm = np.zeros((N, N))\n",
    "    for n in range(y_true.shape[0]):\n",
    "        cm[y_true[n], y_pred[n]] += 1\n",
    "    return cm \n",
    "\n",
    "cnf_matrix = my_confusion_matrix(y_test, classes_x)\n",
    "print('Confusion matrix:')\n",
    "print(cnf_matrix)\n",
    "print('\\nAccuracy:', np.diagonal(cnf_matrix).sum()/cnf_matrix.sum())\n",
    "\n",
    "\n",
    "normalized_confusion_matrix = cnf_matrix/cnf_matrix.sum(axis = 1, keepdims = True)\n",
    "print('\\nConfusion matrix (with normalizatrion:)')\n",
    "print(normalized_confusion_matrix)\n",
    "\n",
    "\n",
    "from sklearn.metrics import confusion_matrix\n",
    "cnf_matrix = confusion_matrix(y_test, classes_x)\n",
    "print('Confusion matrix:')\n",
    "print(cnf_matrix)\n",
    "\n",
    "\n",
    "\n",
    "\n",
    "def plot_confusion_matrix(cm, classes,\n",
    "                          normalize=False,\n",
    "                          title='Confusion matrix',\n",
    "                          cmap=plt.cm.Blues):\n",
    "    \"\"\"\n",
    "    This function prints and plots the confusion matrix.\n",
    "    Normalization can be applied by setting normalize=True.\n",
    "    \"\"\"\n",
    "    if normalize:\n",
    "        cm = cm.astype('float') / cm.sum(axis=1, keepdims = True)\n",
    "    f = plt.figure()\n",
    "    f.set_figwidth(150)\n",
    "    f.set_figheight(150)\n",
    "    plt.imshow(cm, interpolation='nearest', cmap=cmap)\n",
    "    plt.title(title)\n",
    "    plt.colorbar()\n",
    "    tick_marks = np.arange(len(classes))\n",
    "    plt.xticks(tick_marks, classes, rotation=45)\n",
    "    plt.yticks(tick_marks, classes)\n",
    "\n",
    "    fmt = '.2f' if normalize else 'd'\n",
    "    thresh = cm.max() / 2.\n",
    "    for i, j in itertools.product(range(cm.shape[0]), range(cm.shape[1])):\n",
    "        plt.text(j, i, format(cm[i, j], fmt),\n",
    "                 horizontalalignment=\"center\",\n",
    "                 color=\"white\" if cm[i, j] > thresh else \"black\")\n",
    "\n",
    "    plt.tight_layout()\n",
    "    plt.ylabel('True label')\n",
    "    plt.xlabel('Predicted label')\n",
    "\n",
    "# Plot non-normalized confusion matrix\n",
    "class_names = []\n",
    "for i in range(47):\n",
    "  class_names.append(i)\n",
    "plt.figure()\n",
    "plot_confusion_matrix(cnf_matrix, classes=class_names,\n",
    "                      title='Confusion matrix, without normalization')\n",
    "\n",
    "# Plot normalized confusion matrix\n",
    "plt.figure()\n",
    "plot_confusion_matrix(cnf_matrix, classes=class_names, \n",
    "                      normalize=True,\n",
    "                      title='Normalized confusion matrix')\n",
    "\n",
    "plt.show()"
   ]
  },
  {
   "cell_type": "code",
   "execution_count": 16,
   "id": "ae17a6df",
   "metadata": {},
   "outputs": [],
   "source": [
    "new_model = keras.models.load_model(\"my_model\")\n"
   ]
  },
  {
   "cell_type": "code",
   "execution_count": 17,
   "id": "8afced58",
   "metadata": {},
   "outputs": [
    {
     "name": "stdout",
     "output_type": "stream",
     "text": [
      "(22560, 784)\n"
     ]
    }
   ],
   "source": [
    "print(x_test.shape)\n",
    "print()"
   ]
  },
  {
   "cell_type": "code",
   "execution_count": null,
   "id": "2b276e16",
   "metadata": {},
   "outputs": [],
   "source": []
  },
  {
   "cell_type": "code",
   "execution_count": null,
   "id": "6f84e9cd",
   "metadata": {},
   "outputs": [],
   "source": []
  },
  {
   "cell_type": "code",
   "execution_count": null,
   "id": "eafdfa2a",
   "metadata": {},
   "outputs": [],
   "source": []
  },
  {
   "cell_type": "code",
   "execution_count": null,
   "id": "53d3715b",
   "metadata": {},
   "outputs": [],
   "source": []
  },
  {
   "cell_type": "code",
   "execution_count": null,
   "id": "f287b4d9",
   "metadata": {},
   "outputs": [],
   "source": []
  },
  {
   "cell_type": "code",
   "execution_count": null,
   "id": "77c365ca",
   "metadata": {},
   "outputs": [],
   "source": []
  },
  {
   "cell_type": "code",
   "execution_count": null,
   "id": "c1d31b80",
   "metadata": {},
   "outputs": [],
   "source": []
  },
  {
   "cell_type": "code",
   "execution_count": null,
   "id": "96f33c04",
   "metadata": {},
   "outputs": [],
   "source": []
  },
  {
   "cell_type": "code",
   "execution_count": null,
   "id": "5b7350fa",
   "metadata": {},
   "outputs": [],
   "source": []
  },
  {
   "cell_type": "code",
   "execution_count": null,
   "id": "78119c34",
   "metadata": {},
   "outputs": [],
   "source": []
  },
  {
   "cell_type": "code",
   "execution_count": null,
   "id": "29302e07",
   "metadata": {},
   "outputs": [],
   "source": []
  }
 ],
 "metadata": {
  "celltoolbar": "Slideshow",
  "kernelspec": {
   "display_name": "Python 3 (ipykernel)",
   "language": "python",
   "name": "python3"
  },
  "language_info": {
   "codemirror_mode": {
    "name": "ipython",
    "version": 3
   },
   "file_extension": ".py",
   "mimetype": "text/x-python",
   "name": "python",
   "nbconvert_exporter": "python",
   "pygments_lexer": "ipython3",
   "version": "3.10.1"
  },
  "vscode": {
   "interpreter": {
    "hash": "fbc768028c3e6ead51d9a200ddcb2ec858ae62844dcd1994729a8279be9b48f2"
   }
  }
 },
 "nbformat": 4,
 "nbformat_minor": 5
}
