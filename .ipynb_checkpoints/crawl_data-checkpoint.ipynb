{
 "cells": [
  {
   "cell_type": "code",
   "execution_count": 2,
   "metadata": {},
   "outputs": [],
   "source": [
    "import requests\n",
    "from bs4 import BeautifulSoup\n",
    "import pandas as pd\n",
    "from selenium import webdriver\n",
    "from selenium.webdriver.common.by import By\n",
    "from selenium.webdriver.support.ui import WebDriverWait\n",
    "from selenium.webdriver.support import expected_conditions as EC\n",
    "driver = webdriver.Edge()"
   ]
  },
  {
   "cell_type": "code",
   "execution_count": 3,
   "metadata": {},
   "outputs": [],
   "source": [
    "#Extract data from product page\n",
    "names = []\n",
    "prices = []\n",
    "PD=[]\n",
    "def scrape_product_data(product_url):\n",
    "    \n",
    "    product_response = requests.get(product_url)\n",
    "    if product_response.status_code == 200:\n",
    "        product_soup = BeautifulSoup(product_response.content, 'html.parser')\n",
    "\n",
    "        name = product_soup.find('h1').text\n",
    "        price = product_soup.find('div', class_='price-info__final_price_sku').text.strip()\n",
    "        product_detail = product_soup.find_all('div', class_='sc-14dq9fm-7 koGOyg')\n",
    "        for d in product_detail:\n",
    "            PD.append(d.text.strip())\n",
    "        names.append(name)\n",
    "        prices.append(price)\n"
   ]
  },
  {
   "cell_type": "code",
   "execution_count": 4,
   "metadata": {},
   "outputs": [],
   "source": [
    "def category_process(url):\n",
    "    driver.get(url)\n",
    "    for i in range(1,41):\n",
    "        path = '/html/body/div[1]/div[1]/div[2]/div[4]/div/div[%i]/div/div/div/div/div[1]/div[2]/div[1]/a'%i\n",
    "        element_to_click = WebDriverWait(driver, 20).until(\n",
    "        EC.element_to_be_clickable((By.XPATH, path))\n",
    "        )\n",
    "\n",
    "        # Click the element after the hover action\n",
    "        element_to_click.click()\n",
    "\n",
    "        # Wait for the page to load after clicking the product link\n",
    "        WebDriverWait(driver, 20).until(\n",
    "        EC.presence_of_element_located((By.CLASS_NAME, 'product-info-ux2dot0__substringStyle'))\n",
    "        )\n",
    "\n",
    "        # Get the current URL after clicking the product link\n",
    "        product_url = driver.current_url\n",
    "        scrape_product_data(product_url)\n",
    "        # Go back to the previous page\n",
    "        driver.back()"
   ]
  },
  {
   "cell_type": "code",
   "execution_count": 5,
   "metadata": {},
   "outputs": [
    {
     "ename": "TimeoutException",
     "evalue": "Message: \nStacktrace:\n\tGetHandleVerifier [0x00007FF71C992602+60402]\n\tMicrosoft::Applications::Events::ILogConfiguration::operator* [0x00007FF71C917352+253666]\n\t(No symbol) [0x00007FF71C6E9C99]\n\t(No symbol) [0x00007FF71C739FD4]\n\t(No symbol) [0x00007FF71C73A10A]\n\t(No symbol) [0x00007FF71C7781D7]\n\t(No symbol) [0x00007FF71C75BACF]\n\t(No symbol) [0x00007FF71C72D766]\n\t(No symbol) [0x00007FF71C775111]\n\t(No symbol) [0x00007FF71C75B863]\n\t(No symbol) [0x00007FF71C72C585]\n\t(No symbol) [0x00007FF71C72B993]\n\t(No symbol) [0x00007FF71C72CD14]\n\tMicrosoft::Applications::Events::EventProperty::to_string [0x00007FF71CB734A4+1161924]\n\t(No symbol) [0x00007FF71C7AE5F6]\n\tMicrosoft::Applications::Events::EventProperty::~EventProperty [0x00007FF71C86B083+37459]\n\tMicrosoft::Applications::Events::EventProperty::~EventProperty [0x00007FF71C862C4D+3613]\n\tMicrosoft::Applications::Events::EventProperty::to_string [0x00007FF71CB721E4+1157124]\n\tMicrosoft::Applications::Events::ILogConfiguration::operator* [0x00007FF71C9216A8+295480]\n\tMicrosoft::Applications::Events::ILogConfiguration::operator* [0x00007FF71C91CB74+276228]\n\tMicrosoft::Applications::Events::ILogConfiguration::operator* [0x00007FF71C91CCA2+276530]\n\tMicrosoft::Applications::Events::ILogConfiguration::operator* [0x00007FF71C90FA91+222753]\n\tBaseThreadInitThunk [0x00007FF8BDB0257D+29]\n\tRtlUserThreadStart [0x00007FF8BF72AA58+40]\n",
     "output_type": "error",
     "traceback": [
      "\u001b[1;31m---------------------------------------------------------------------------\u001b[0m",
      "\u001b[1;31mTimeoutException\u001b[0m                          Traceback (most recent call last)",
      "\u001b[1;32mc:\\Users\\Acer\\OneDrive\\Desktop\\ds\\crawl_data.ipynb Cell 4\u001b[0m line \u001b[0;36m3\n\u001b[0;32m      <a href='vscode-notebook-cell:/c%3A/Users/Acer/OneDrive/Desktop/ds/crawl_data.ipynb#W6sZmlsZQ%3D%3D?line=0'>1</a>\u001b[0m \u001b[39mfor\u001b[39;00m i \u001b[39min\u001b[39;00m \u001b[39mrange\u001b[39m(\u001b[39m1\u001b[39m,\u001b[39m7\u001b[39m):\n\u001b[0;32m      <a href='vscode-notebook-cell:/c%3A/Users/Acer/OneDrive/Desktop/ds/crawl_data.ipynb#W6sZmlsZQ%3D%3D?line=1'>2</a>\u001b[0m     url_main\u001b[39m=\u001b[39m\u001b[39m'\u001b[39m\u001b[39mhttps://www.staples.com/laptops/cat_CL167289?pn=\u001b[39m\u001b[39m%i\u001b[39;00m\u001b[39m'\u001b[39m\u001b[39m%\u001b[39mi\n\u001b[1;32m----> <a href='vscode-notebook-cell:/c%3A/Users/Acer/OneDrive/Desktop/ds/crawl_data.ipynb#W6sZmlsZQ%3D%3D?line=2'>3</a>\u001b[0m     category_process(url_main)\n",
      "\u001b[1;32mc:\\Users\\Acer\\OneDrive\\Desktop\\ds\\crawl_data.ipynb Cell 4\u001b[0m line \u001b[0;36m5\n\u001b[0;32m      <a href='vscode-notebook-cell:/c%3A/Users/Acer/OneDrive/Desktop/ds/crawl_data.ipynb#W6sZmlsZQ%3D%3D?line=2'>3</a>\u001b[0m \u001b[39mfor\u001b[39;00m i \u001b[39min\u001b[39;00m \u001b[39mrange\u001b[39m(\u001b[39m1\u001b[39m,\u001b[39m41\u001b[39m):\n\u001b[0;32m      <a href='vscode-notebook-cell:/c%3A/Users/Acer/OneDrive/Desktop/ds/crawl_data.ipynb#W6sZmlsZQ%3D%3D?line=3'>4</a>\u001b[0m     path \u001b[39m=\u001b[39m \u001b[39m'\u001b[39m\u001b[39m/html/body/div[1]/div[1]/div[2]/div[4]/div/div[\u001b[39m\u001b[39m%i\u001b[39;00m\u001b[39m]/div/div/div/div/div[1]/div[2]/div[1]/a\u001b[39m\u001b[39m'\u001b[39m\u001b[39m%\u001b[39mi\n\u001b[1;32m----> <a href='vscode-notebook-cell:/c%3A/Users/Acer/OneDrive/Desktop/ds/crawl_data.ipynb#W6sZmlsZQ%3D%3D?line=4'>5</a>\u001b[0m     element_to_click \u001b[39m=\u001b[39m WebDriverWait(driver, \u001b[39m20\u001b[39;49m)\u001b[39m.\u001b[39;49muntil(\n\u001b[0;32m      <a href='vscode-notebook-cell:/c%3A/Users/Acer/OneDrive/Desktop/ds/crawl_data.ipynb#W6sZmlsZQ%3D%3D?line=5'>6</a>\u001b[0m     EC\u001b[39m.\u001b[39;49melement_to_be_clickable((By\u001b[39m.\u001b[39;49mXPATH, path))\n\u001b[0;32m      <a href='vscode-notebook-cell:/c%3A/Users/Acer/OneDrive/Desktop/ds/crawl_data.ipynb#W6sZmlsZQ%3D%3D?line=6'>7</a>\u001b[0m     )\n\u001b[0;32m      <a href='vscode-notebook-cell:/c%3A/Users/Acer/OneDrive/Desktop/ds/crawl_data.ipynb#W6sZmlsZQ%3D%3D?line=8'>9</a>\u001b[0m     \u001b[39m# Click the element after the hover action\u001b[39;00m\n\u001b[0;32m     <a href='vscode-notebook-cell:/c%3A/Users/Acer/OneDrive/Desktop/ds/crawl_data.ipynb#W6sZmlsZQ%3D%3D?line=9'>10</a>\u001b[0m     element_to_click\u001b[39m.\u001b[39mclick()\n",
      "File \u001b[1;32m~\\AppData\\Local\\Packages\\PythonSoftwareFoundation.Python.3.9_qbz5n2kfra8p0\\LocalCache\\local-packages\\Python39\\site-packages\\selenium\\webdriver\\support\\wait.py:95\u001b[0m, in \u001b[0;36mWebDriverWait.until\u001b[1;34m(self, method, message)\u001b[0m\n\u001b[0;32m     93\u001b[0m     \u001b[39mif\u001b[39;00m time\u001b[39m.\u001b[39mmonotonic() \u001b[39m>\u001b[39m end_time:\n\u001b[0;32m     94\u001b[0m         \u001b[39mbreak\u001b[39;00m\n\u001b[1;32m---> 95\u001b[0m \u001b[39mraise\u001b[39;00m TimeoutException(message, screen, stacktrace)\n",
      "\u001b[1;31mTimeoutException\u001b[0m: Message: \nStacktrace:\n\tGetHandleVerifier [0x00007FF71C992602+60402]\n\tMicrosoft::Applications::Events::ILogConfiguration::operator* [0x00007FF71C917352+253666]\n\t(No symbol) [0x00007FF71C6E9C99]\n\t(No symbol) [0x00007FF71C739FD4]\n\t(No symbol) [0x00007FF71C73A10A]\n\t(No symbol) [0x00007FF71C7781D7]\n\t(No symbol) [0x00007FF71C75BACF]\n\t(No symbol) [0x00007FF71C72D766]\n\t(No symbol) [0x00007FF71C775111]\n\t(No symbol) [0x00007FF71C75B863]\n\t(No symbol) [0x00007FF71C72C585]\n\t(No symbol) [0x00007FF71C72B993]\n\t(No symbol) [0x00007FF71C72CD14]\n\tMicrosoft::Applications::Events::EventProperty::to_string [0x00007FF71CB734A4+1161924]\n\t(No symbol) [0x00007FF71C7AE5F6]\n\tMicrosoft::Applications::Events::EventProperty::~EventProperty [0x00007FF71C86B083+37459]\n\tMicrosoft::Applications::Events::EventProperty::~EventProperty [0x00007FF71C862C4D+3613]\n\tMicrosoft::Applications::Events::EventProperty::to_string [0x00007FF71CB721E4+1157124]\n\tMicrosoft::Applications::Events::ILogConfiguration::operator* [0x00007FF71C9216A8+295480]\n\tMicrosoft::Applications::Events::ILogConfiguration::operator* [0x00007FF71C91CB74+276228]\n\tMicrosoft::Applications::Events::ILogConfiguration::operator* [0x00007FF71C91CCA2+276530]\n\tMicrosoft::Applications::Events::ILogConfiguration::operator* [0x00007FF71C90FA91+222753]\n\tBaseThreadInitThunk [0x00007FF8BDB0257D+29]\n\tRtlUserThreadStart [0x00007FF8BF72AA58+40]\n"
     ]
    }
   ],
   "source": [
    "for i in range(1,7):\n",
    "    url_main='https://www.staples.com/laptops/cat_CL167289?pn=%i'%i\n",
    "    category_process(url_main)"
   ]
  },
  {
   "cell_type": "code",
   "execution_count": null,
   "metadata": {},
   "outputs": [],
   "source": [
    "data = {\n",
    "    'Name': names,\n",
    "    'Price': prices,\n",
    "    'Operating system':PD[0],\n",
    "    'Hard drive':PD[1],\n",
    "    'Memory':PD[2],\n",
    "    'Graphic card':PD[3],\n",
    "    'Processor':PD[4],\n",
    "    'Display':PD[5]\n",
    "}\n",
    "df = pd.DataFrame(data)\n",
    "df.to_csv('product_data_staple.csv', index=False)"
   ]
  }
 ],
 "metadata": {
  "kernelspec": {
   "display_name": "Python 3 (ipykernel)",
   "language": "python",
   "name": "python3"
  },
  "language_info": {
   "codemirror_mode": {
    "name": "ipython",
    "version": 3
   },
   "file_extension": ".py",
   "mimetype": "text/x-python",
   "name": "python",
   "nbconvert_exporter": "python",
   "pygments_lexer": "ipython3",
   "version": "3.10.1"
  }
 },
 "nbformat": 4,
 "nbformat_minor": 2
}
