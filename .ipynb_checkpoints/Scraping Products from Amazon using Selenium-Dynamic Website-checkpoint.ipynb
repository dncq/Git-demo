{
 "cells": [
  {
   "cell_type": "markdown",
   "metadata": {},
   "source": [
    "## Import Modules"
   ]
  },
  {
   "cell_type": "code",
   "execution_count": 99,
   "metadata": {},
   "outputs": [],
   "source": [
    "from selenium import webdriver\n",
    "from selenium.webdriver.common.by import By\n",
    "from selenium.webdriver.support.ui import WebDriverWait\n",
    "from selenium.webdriver.support import expected_conditions as EC\n",
    "from time import sleep"
   ]
  },
  {
   "cell_type": "markdown",
   "metadata": {},
   "source": [
    "## Set path for Webdriver"
   ]
  },
  {
   "cell_type": "code",
   "execution_count": 100,
   "metadata": {},
   "outputs": [],
   "source": [
    "# path = 'C://chromedriver.exe'"
   ]
  },
  {
   "cell_type": "code",
   "execution_count": 101,
   "metadata": {},
   "outputs": [],
   "source": [
    "# open the browser\n",
    "# browser = webdriver.Chrome(executable_path = path)\n",
    "browser = webdriver.Chrome()"
   ]
  },
  {
   "cell_type": "code",
   "execution_count": 102,
   "metadata": {},
   "outputs": [],
   "source": [
    "# load the webpage\n",
    "browser.get('https://www.amazon.in')"
   ]
  },
  {
   "cell_type": "code",
   "execution_count": 103,
   "metadata": {},
   "outputs": [],
   "source": [
    "browser.maximize_window()"
   ]
  },
  {
   "cell_type": "code",
   "execution_count": 104,
   "metadata": {},
   "outputs": [],
   "source": [
    "# get the input elements\n",
    "input_search = browser.find_element(By.ID, 'twotabsearchtextbox')\n",
    "search_button = browser.find_element(By.XPATH, \"(//input[@type='submit'])[1]\")"
   ]
  },
  {
   "cell_type": "code",
   "execution_count": 105,
   "metadata": {},
   "outputs": [],
   "source": [
    "# send the input to the webpage\n",
    "input_search.send_keys(\"Laptop\")\n",
    "sleep(1)\n",
    "search_button.click()"
   ]
  },
  {
   "cell_type": "markdown",
   "metadata": {},
   "source": [
    "## Scrape Products from Amazon"
   ]
  },
  {
   "cell_type": "code",
   "execution_count": 106,
   "metadata": {},
   "outputs": [
    {
     "name": "stdout",
     "output_type": "stream",
     "text": [
      "Scraping page 1\n",
      "Scraping page 2\n",
      "No more pages available\n"
     ]
    }
   ],
   "source": [
    "products = []\n",
    "for i in range(20):\n",
    "    print('Scraping page', i+1)\n",
    "    product = browser.find_elements(By.XPATH, \"//span[@class='a-size-medium a-color-base a-text-normal']\")\n",
    "    for p in product:\n",
    "        products.append(p.text)\n",
    "\n",
    "#     next_button = browser.find_element(By.XPATH, \"//a[text()='Next']\")\n",
    "#     next_button.click()\n",
    "#     sleep(2)\n",
    "    try:\n",
    "        next_button = browser.find_element(By.XPATH, \"//a[text()='Next']\")\n",
    "        next_button.click()\n",
    "        sleep(2)\n",
    "    except:\n",
    "        print(\"No more pages available\")\n",
    "        break\n"
   ]
  },
  {
   "cell_type": "code",
   "execution_count": 107,
   "metadata": {},
   "outputs": [
    {
     "data": {
      "text/plain": [
       "29"
      ]
     },
     "execution_count": 107,
     "metadata": {},
     "output_type": "execute_result"
    }
   ],
   "source": [
    "len(products)"
   ]
  },
  {
   "cell_type": "code",
   "execution_count": 108,
   "metadata": {},
   "outputs": [
    {
     "data": {
      "text/plain": [
       "['Dell 15 Vostro 3510 Laptop, Intel Core i5-1135G7 Proc/16GB DDR4/512GB SSD/Intel UHD Graphic/15.6\" (39.562cm) FHD/Win 11+MSO\\'21/Thin & Light 1.69kg/15 Month McAfee/Spill-Resistant Keyboard/Carbon,7T2YC',\n",
       " 'HP [SmartChoice] 15s, Ryzen 5-5500U, 16GB RAM/512GB SSD 15.6\"(39.6 cm) FHD Laptop/Alexa Built-in/Windows 11 /AMD Radeon Graphics/MSO 2021/1.69 Kg, eq2132au, eq2182au',\n",
       " 'HP 255 G9 (840T7PA) Notebook (AMD Athlon Silver-3050U/ 4GB RAM/ 256GB SSD/DOS/ 15.6\" Screen/ 1 Year Warranty), Black',\n",
       " 'Xiaomi Notebook Ultra Max 11th Gen Intel Core i5-11320H Thin & Light (16GB/512GB SSD/Iris Xe Graphics/15.6\" 3.2K Resolution/Win 11/Thunderbolt 4/MS Office \\'21/Fingerprint Sensor/1.7 Kg)',\n",
       " 'ASUS Vivobook 14, Intel Core i3-1115G4 11th Gen, 14\" (35.56 cms) FHD, Thin and Light Laptop (8GB/512GB SSD/Windows 11/Office 2021/Transparent Silver/1.60 kg), X1400EA-EK322WS']"
      ]
     },
     "execution_count": 108,
     "metadata": {},
     "output_type": "execute_result"
    }
   ],
   "source": [
    "products[:5]"
   ]
  },
  {
   "cell_type": "code",
   "execution_count": 109,
   "metadata": {},
   "outputs": [
    {
     "data": {
      "text/plain": [
       "'ASUS Vivobook 14, Intel Core i3-1115G4 11th Gen, 14\" (35.56 cms) FHD, Thin and Light Laptop (8GB/512GB SSD/Windows 11/Office 2021/Transparent Silver/1.60 kg), X1400EA-EK322WS'"
      ]
     },
     "execution_count": 109,
     "metadata": {},
     "output_type": "execute_result"
    }
   ],
   "source": [
    "products[4]"
   ]
  },
  {
   "cell_type": "code",
   "execution_count": 110,
   "metadata": {},
   "outputs": [],
   "source": [
    "browser.quit()"
   ]
  },
  {
   "cell_type": "code",
   "execution_count": 111,
   "metadata": {},
   "outputs": [
    {
     "name": "stdout",
     "output_type": "stream",
     "text": [
      "<class 'str'>\n"
     ]
    }
   ],
   "source": [
    "print(type(products[0]))"
   ]
  },
  {
   "cell_type": "code",
   "execution_count": 112,
   "metadata": {},
   "outputs": [
    {
     "data": {
      "text/plain": [
       "['Dell 15 Vostro 3510 Laptop, Intel Core i5-1135G7 Proc/16GB DDR4/512GB SSD/Intel UHD Graphic/15.6\" (39.562cm) FHD/Win 11+MSO\\'21/Thin & Light 1.69kg/15 Month McAfee/Spill-Resistant Keyboard/Carbon,7T2YC',\n",
       " 'HP [SmartChoice] 15s, Ryzen 5-5500U, 16GB RAM/512GB SSD 15.6\"(39.6 cm) FHD Laptop/Alexa Built-in/Windows 11 /AMD Radeon Graphics/MSO 2021/1.69 Kg, eq2132au, eq2182au',\n",
       " 'HP 255 G9 (840T7PA) Notebook (AMD Athlon Silver-3050U/ 4GB RAM/ 256GB SSD/DOS/ 15.6\" Screen/ 1 Year Warranty), Black',\n",
       " 'Xiaomi Notebook Ultra Max 11th Gen Intel Core i5-11320H Thin & Light (16GB/512GB SSD/Iris Xe Graphics/15.6\" 3.2K Resolution/Win 11/Thunderbolt 4/MS Office \\'21/Fingerprint Sensor/1.7 Kg)',\n",
       " 'ASUS Vivobook 14, Intel Core i3-1115G4 11th Gen, 14\" (35.56 cms) FHD, Thin and Light Laptop (8GB/512GB SSD/Windows 11/Office 2021/Transparent Silver/1.60 kg), X1400EA-EK322WS',\n",
       " 'Acer Aspire Lite 11th Gen Intel Core i3 Premium Metal Laptop (8GB RAM/512GB SSD/Windows 11 Home) AL15-51, 39.62cm (15.6\") Full HD Display, Metal Body, Steel Gray, 1.59 Kg',\n",
       " 'Acer Extensa 15 Intel Core i3 N305 8 core Processor (Windows 11 Home/8 GB/512 GB SSD/Intel UHD Graphics) EX215-33, 15.6\" FHD Display Laptop, 1.7 KG, Silver',\n",
       " 'HP Laptop 15s, 11th Gen Intel Core i5-1155G7, 15.6-inch (39.6 cm), FHD, 16GB DDR4, 512GB SSD, Intel Iris Xe Graphics, Backlit KB, Thin & Light (Win 11, MSO 2021, Silver, 1.69 kg), fr4001TU',\n",
       " 'HP Laptop 15s, 12th Gen Intel Core i3-1215U, 15.6-inch (39.6 cm), FHD, 8GB DDR4, 512GB SSD, Intel UHD Graphics, Backlit KB, Thin & Light, Dual Speakers (Win 11, MSO 2021, Silver, 1.69 kg), fq5007TU',\n",
       " 'AVITA SATUS S111 NU14A1INC43PN-SG 14.1 FHD (35.81cms) Laptop (Intel Celeron N4020/4GB/128GB SSD/FHD Display/Windows 11 Home/Intel UHD Graphics), Space Grey',\n",
       " 'MSI Gaming GF63 Thin, Intel Core i7-11800H, 40CM FHD 144Hz Gaming Laptop (8GB/512GB NVMe SSD/Windows 10 Home/Nvidia GTX1650 4GB GDDR6/ Black/1.86Kg), 11SC-852IN',\n",
       " 'MSI Cyborg 15, Intel 12th Gen. i5-12450H, 40CM FHD 144Hz Gaming Laptop (8GB/512GB NVMe SSD/Windows 11 Home/Nvidia GeForce RTX 2050, GDDR6 4GB/Black/1.98Kg), A12UCX-265IN',\n",
       " 'PLIXIO Adjustable Laptop Stand with 360° Rotating Base Tabletop Laptop Stand Ergonomic Foldable Portable Laptop Stand Holder Compatible for MacBook, HP, Dell, Lenovo & All Other Notebook (Sliver)',\n",
       " 'Samsung Galaxy Book3 Core i7 13th Gen 1355U - (16 GB/512 GB SSD/Windows 11 Home) Galaxy Book3 Thin and Light Laptop  (15.6 Inch, Graphite, 1.58 Kg, with MS Office)',\n",
       " 'HP Laptop 15s, 11th Gen Intel Core i3-1125G4, 15.6-inch (39.6 cm), FHD, 8GB DDR4, 512GB SSD, Intel UHD Graphics, Thin & Light, Dual Speakers (Win 11, MSO 2021, Silver, 1.69 kg), fq2673TU',\n",
       " 'Lenovo Ideapad 1 AMD Ryzen 5 5500U 15.6\" (39.62cm) FHD Thin & Light Laptop (8GB/512GB SSD/Windows 11/Office 2021/1Yr Warranty/Cloud Grey/1.6Kg), 82R400BRIN',\n",
       " 'Acer Aspire 3 Thin and Light Laptop Intel Core i5 12th Generation (Windows 11 Home/8 GB/512 GB SSD) A315-59 with 15.6-inch (39.6 cms) Full HD Display, 1.7 KG, Pure Silver',\n",
       " 'Apple MacBook Air Laptop M1 chip, 13.3-inch/33.74 cm Retina Display, 8GB RAM, 256GB SSD Storage, Backlit Keyboard, FaceTime HD Camera, Touch ID. Works with iPhone/iPad; Space Grey',\n",
       " 'FUTOPIA All-New ULTIMUS Pro, Celeron N4020c Thin & Light (4GB RAM/128GB eMMC, 14.1-inch (35.8 cm) HD Display/Win 11 Home/Matt Black/1.20 Kg) NU14U3INC43BN-MB',\n",
       " 'ASUS TUF Gaming F15 (2023) 90WHr Battery, Intel Core i7-12700H 12th Gen, 15.6\" FHD 144Hz, 8GB RTX 4060, Gaming Laptop (16GB/512GB SSD/Windows 11//1-Zone RGB/Gray/2.20 Kg), FX507ZV-LP094W',\n",
       " 'Lenovo Yoga Slim 6 Intel Evo Core i5 1240P 14\"(35.5cm) 2.2K 300Nit Laptop (16GB/512GB SSD/60Hz Refresh/Win 11/Office 2021/Backlit KB/1Yr Warranty/Alexa/3 Month Game Pass/Storm Grey/1.35Kg), 82WU0095IN',\n",
       " 'HP Chromebook X360,Intel Celeron N4120,14-Inch (35.6 Cm),Hd,4Gb Lpddr4,64Gb Emmc,Intel Uhd Graphics,Thin&Light,Dual Speakers,Brightview Display (Chrome 64,White,1.49 Kg),Ca0505Tu,Chrome OS',\n",
       " 'MSI GF63 Thin, Intel Core i5-11260H, 40CM FHD 144Hz Gaming Laptop (8GBx2 RAM/512GB NVMe SSD/Windows 11 Home/Nvidia GeForce RTX 3050, GDDR6 4GB/Black/1.8Kg), 11UC-1474IN',\n",
       " '[SmartChoice] Lenovo IdeaPad 3 11th Gen Intel Core i3 15.6\" FHD Thin & Light Laptop(8GB/512GB SSD/Windows 11/Office 2021/1Yr Warranty/3months Xbox Game Pass/Platinum Grey/1.7Kg),81X800N2IN',\n",
       " 'MSI GF63 Thin, Intel Core i5-11260H, 40CM FHD 144Hz Gaming Laptop (8GB/512GB NVMe SSD/Windows 11 Home/Nvidia GeForce GTX 1650, GDDR6 4GB/Black/1.8Kg), 11SC-1477IN',\n",
       " 'MSI Cyborg 15, Intel 12th Gen. i5-12450H, 40CM FHD 144Hz Gaming Laptop (8GBx2/512GB NVMe SSD/Windows 11 Home/Nvidia GeForce RTX 2050, GDDR6 4GB/Black/1.98Kg), A12UCX-264IN',\n",
       " 'AXL VayuBook Laptop 14.1 Inch FHD IPS Display (4GB Ram,128GB SSD) 1920 * 1080 Resolution | HD Gemini Lake N4020 | Windows 11 Home | UHD Graphics 600 (Cloud Silver)',\n",
       " 'Apple MacBook Air Laptop M1 chip, 13.3-inch/33.74 cm Retina Display, 8GB RAM, 256GB SSD Storage, Backlit Keyboard, FaceTime HD Camera, Touch ID. Works with iPhone/iPad; Silver',\n",
       " \"Chuwi HeroBook Pro 14.1'' Laptop, 8GB RAM 256GB SSD, Windows 11 Laptop, 1TB SSD Expand, Intel Celeron N4020(up to 2.8GHz), FHD IPS Display, Ultra Slim, Mini-HDMI, USB3.0, Webcam,TF Card\"]"
      ]
     },
     "execution_count": 112,
     "metadata": {},
     "output_type": "execute_result"
    }
   ],
   "source": [
    "products"
   ]
  },
  {
   "cell_type": "code",
   "execution_count": 113,
   "metadata": {},
   "outputs": [
    {
     "data": {
      "text/html": [
       "<div>\n",
       "<style scoped>\n",
       "    .dataframe tbody tr th:only-of-type {\n",
       "        vertical-align: middle;\n",
       "    }\n",
       "\n",
       "    .dataframe tbody tr th {\n",
       "        vertical-align: top;\n",
       "    }\n",
       "\n",
       "    .dataframe thead th {\n",
       "        text-align: right;\n",
       "    }\n",
       "</style>\n",
       "<table border=\"1\" class=\"dataframe\">\n",
       "  <thead>\n",
       "    <tr style=\"text-align: right;\">\n",
       "      <th></th>\n",
       "      <th>PName</th>\n",
       "    </tr>\n",
       "  </thead>\n",
       "  <tbody>\n",
       "    <tr>\n",
       "      <th>0</th>\n",
       "      <td>Dell 15 Vostro 3510 Laptop, Intel Core i5-1135...</td>\n",
       "    </tr>\n",
       "    <tr>\n",
       "      <th>1</th>\n",
       "      <td>HP [SmartChoice] 15s, Ryzen 5-5500U, 16GB RAM/...</td>\n",
       "    </tr>\n",
       "    <tr>\n",
       "      <th>2</th>\n",
       "      <td>HP 255 G9 (840T7PA) Notebook (AMD Athlon Silve...</td>\n",
       "    </tr>\n",
       "    <tr>\n",
       "      <th>3</th>\n",
       "      <td>Xiaomi Notebook Ultra Max 11th Gen Intel Core ...</td>\n",
       "    </tr>\n",
       "    <tr>\n",
       "      <th>4</th>\n",
       "      <td>ASUS Vivobook 14, Intel Core i3-1115G4 11th Ge...</td>\n",
       "    </tr>\n",
       "    <tr>\n",
       "      <th>5</th>\n",
       "      <td>Acer Aspire Lite 11th Gen Intel Core i3 Premiu...</td>\n",
       "    </tr>\n",
       "    <tr>\n",
       "      <th>6</th>\n",
       "      <td>Acer Extensa 15 Intel Core i3 N305 8 core Proc...</td>\n",
       "    </tr>\n",
       "    <tr>\n",
       "      <th>7</th>\n",
       "      <td>HP Laptop 15s, 11th Gen Intel Core i5-1155G7, ...</td>\n",
       "    </tr>\n",
       "    <tr>\n",
       "      <th>8</th>\n",
       "      <td>HP Laptop 15s, 12th Gen Intel Core i3-1215U, 1...</td>\n",
       "    </tr>\n",
       "    <tr>\n",
       "      <th>9</th>\n",
       "      <td>AVITA SATUS S111 NU14A1INC43PN-SG 14.1 FHD (35...</td>\n",
       "    </tr>\n",
       "    <tr>\n",
       "      <th>10</th>\n",
       "      <td>MSI Gaming GF63 Thin, Intel Core i7-11800H, 40...</td>\n",
       "    </tr>\n",
       "    <tr>\n",
       "      <th>11</th>\n",
       "      <td>MSI Cyborg 15, Intel 12th Gen. i5-12450H, 40CM...</td>\n",
       "    </tr>\n",
       "    <tr>\n",
       "      <th>12</th>\n",
       "      <td>PLIXIO Adjustable Laptop Stand with 360° Rotat...</td>\n",
       "    </tr>\n",
       "    <tr>\n",
       "      <th>13</th>\n",
       "      <td>Samsung Galaxy Book3 Core i7 13th Gen 1355U - ...</td>\n",
       "    </tr>\n",
       "    <tr>\n",
       "      <th>14</th>\n",
       "      <td>HP Laptop 15s, 11th Gen Intel Core i3-1125G4, ...</td>\n",
       "    </tr>\n",
       "    <tr>\n",
       "      <th>15</th>\n",
       "      <td>Lenovo Ideapad 1 AMD Ryzen 5 5500U 15.6\" (39.6...</td>\n",
       "    </tr>\n",
       "    <tr>\n",
       "      <th>16</th>\n",
       "      <td>Acer Aspire 3 Thin and Light Laptop Intel Core...</td>\n",
       "    </tr>\n",
       "    <tr>\n",
       "      <th>17</th>\n",
       "      <td>Apple MacBook Air Laptop M1 chip, 13.3-inch/33...</td>\n",
       "    </tr>\n",
       "    <tr>\n",
       "      <th>18</th>\n",
       "      <td>FUTOPIA All-New ULTIMUS Pro, Celeron N4020c Th...</td>\n",
       "    </tr>\n",
       "    <tr>\n",
       "      <th>19</th>\n",
       "      <td>ASUS TUF Gaming F15 (2023) 90WHr Battery, Inte...</td>\n",
       "    </tr>\n",
       "    <tr>\n",
       "      <th>20</th>\n",
       "      <td>Lenovo Yoga Slim 6 Intel Evo Core i5 1240P 14\"...</td>\n",
       "    </tr>\n",
       "    <tr>\n",
       "      <th>21</th>\n",
       "      <td>HP Chromebook X360,Intel Celeron N4120,14-Inch...</td>\n",
       "    </tr>\n",
       "    <tr>\n",
       "      <th>22</th>\n",
       "      <td>MSI GF63 Thin, Intel Core i5-11260H, 40CM FHD ...</td>\n",
       "    </tr>\n",
       "    <tr>\n",
       "      <th>23</th>\n",
       "      <td>[SmartChoice] Lenovo IdeaPad 3 11th Gen Intel ...</td>\n",
       "    </tr>\n",
       "    <tr>\n",
       "      <th>24</th>\n",
       "      <td>MSI GF63 Thin, Intel Core i5-11260H, 40CM FHD ...</td>\n",
       "    </tr>\n",
       "    <tr>\n",
       "      <th>25</th>\n",
       "      <td>MSI Cyborg 15, Intel 12th Gen. i5-12450H, 40CM...</td>\n",
       "    </tr>\n",
       "    <tr>\n",
       "      <th>26</th>\n",
       "      <td>AXL VayuBook Laptop 14.1 Inch FHD IPS Display ...</td>\n",
       "    </tr>\n",
       "    <tr>\n",
       "      <th>27</th>\n",
       "      <td>Apple MacBook Air Laptop M1 chip, 13.3-inch/33...</td>\n",
       "    </tr>\n",
       "    <tr>\n",
       "      <th>28</th>\n",
       "      <td>Chuwi HeroBook Pro 14.1'' Laptop, 8GB RAM 256G...</td>\n",
       "    </tr>\n",
       "  </tbody>\n",
       "</table>\n",
       "</div>"
      ],
      "text/plain": [
       "                                                PName\n",
       "0   Dell 15 Vostro 3510 Laptop, Intel Core i5-1135...\n",
       "1   HP [SmartChoice] 15s, Ryzen 5-5500U, 16GB RAM/...\n",
       "2   HP 255 G9 (840T7PA) Notebook (AMD Athlon Silve...\n",
       "3   Xiaomi Notebook Ultra Max 11th Gen Intel Core ...\n",
       "4   ASUS Vivobook 14, Intel Core i3-1115G4 11th Ge...\n",
       "5   Acer Aspire Lite 11th Gen Intel Core i3 Premiu...\n",
       "6   Acer Extensa 15 Intel Core i3 N305 8 core Proc...\n",
       "7   HP Laptop 15s, 11th Gen Intel Core i5-1155G7, ...\n",
       "8   HP Laptop 15s, 12th Gen Intel Core i3-1215U, 1...\n",
       "9   AVITA SATUS S111 NU14A1INC43PN-SG 14.1 FHD (35...\n",
       "10  MSI Gaming GF63 Thin, Intel Core i7-11800H, 40...\n",
       "11  MSI Cyborg 15, Intel 12th Gen. i5-12450H, 40CM...\n",
       "12  PLIXIO Adjustable Laptop Stand with 360° Rotat...\n",
       "13  Samsung Galaxy Book3 Core i7 13th Gen 1355U - ...\n",
       "14  HP Laptop 15s, 11th Gen Intel Core i3-1125G4, ...\n",
       "15  Lenovo Ideapad 1 AMD Ryzen 5 5500U 15.6\" (39.6...\n",
       "16  Acer Aspire 3 Thin and Light Laptop Intel Core...\n",
       "17  Apple MacBook Air Laptop M1 chip, 13.3-inch/33...\n",
       "18  FUTOPIA All-New ULTIMUS Pro, Celeron N4020c Th...\n",
       "19  ASUS TUF Gaming F15 (2023) 90WHr Battery, Inte...\n",
       "20  Lenovo Yoga Slim 6 Intel Evo Core i5 1240P 14\"...\n",
       "21  HP Chromebook X360,Intel Celeron N4120,14-Inch...\n",
       "22  MSI GF63 Thin, Intel Core i5-11260H, 40CM FHD ...\n",
       "23  [SmartChoice] Lenovo IdeaPad 3 11th Gen Intel ...\n",
       "24  MSI GF63 Thin, Intel Core i5-11260H, 40CM FHD ...\n",
       "25  MSI Cyborg 15, Intel 12th Gen. i5-12450H, 40CM...\n",
       "26  AXL VayuBook Laptop 14.1 Inch FHD IPS Display ...\n",
       "27  Apple MacBook Air Laptop M1 chip, 13.3-inch/33...\n",
       "28  Chuwi HeroBook Pro 14.1'' Laptop, 8GB RAM 256G..."
      ]
     },
     "execution_count": 113,
     "metadata": {},
     "output_type": "execute_result"
    }
   ],
   "source": [
    "import pandas as pd\n",
    "import csv \n",
    "\n",
    "df = pd.DataFrame(products, columns = [\"PName\"])\n",
    "\n",
    "df"
   ]
  },
  {
   "cell_type": "code",
   "execution_count": 114,
   "metadata": {},
   "outputs": [],
   "source": [
    "df.to_csv(\"test_se2.csv\")"
   ]
  },
  {
   "cell_type": "code",
   "execution_count": null,
   "metadata": {},
   "outputs": [],
   "source": []
  }
 ],
 "metadata": {
  "kernelspec": {
   "display_name": "Python 3 (ipykernel)",
   "language": "python",
   "name": "python3"
  },
  "language_info": {
   "codemirror_mode": {
    "name": "ipython",
    "version": 3
   },
   "file_extension": ".py",
   "mimetype": "text/x-python",
   "name": "python",
   "nbconvert_exporter": "python",
   "pygments_lexer": "ipython3",
   "version": "3.10.1"
  }
 },
 "nbformat": 4,
 "nbformat_minor": 4
}
