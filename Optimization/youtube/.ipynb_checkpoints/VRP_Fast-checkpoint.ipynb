{
 "cells": [
  {
   "cell_type": "code",
   "execution_count": 389,
   "id": "ebb293ed",
   "metadata": {},
   "outputs": [],
   "source": [
    "import random\n",
    "import math\n",
    "import numpy as np\n",
    "import matplotlib.pyplot as plt"
   ]
  },
  {
   "cell_type": "code",
   "execution_count": 390,
   "id": "ef12a84d",
   "metadata": {},
   "outputs": [
    {
     "data": {
      "image/png": "[encoded data removed]",
      "text/plain": [
       "<Figure size 432x288 with 1 Axes>"
      ]
     },
     "metadata": {
      "needs_background": "light"
     },
     "output_type": "display_data"
    }
   ],
   "source": [
    "# N: The number of customers\n",
    "# M: The number of employees\n",
    "# V: The set of nodes (customers)\n",
    "# location: the coordinate of each node\n",
    "# d: the maintenance time (demand) of the customers\n",
    "# c: the travel time betwwen two location i and j\n",
    "# capacity: the maximum maintenance time of an employee\n",
    "\n",
    "\n",
    "N = 8\n",
    "M = 2\n",
    "V = set(range(N+1))\n",
    "location = [(np.random.uniform(0,50), np.random.uniform(0,50))]\n",
    "plt.plot(location[-1][0], location[-1][1],'rs')\n",
    "\n",
    "d = [0]\n",
    "for i in V - {0}:\n",
    "    location.append((np.random.uniform(0,50),np.random.uniform(0,50)))\n",
    "    d.append(random.randint(1,3))\n",
    "    plt.scatter(location[-1][0],location[-1][1],d[-1]*20,'b')\n",
    "    plt.text(location[-1][0],location[-1][1],str(i))\n",
    "\n",
    "plt.show()\n",
    "\n",
    "def distance(a,b):\n",
    "    return math.sqrt((a[0]-b[0])*(a[0]-b[0]) + (a[1]-b[1])*(a[1]-b[1]))\n",
    "\n",
    "c = [[0 if i == j \n",
    "      else distance(location[i], location[j]) \n",
    "      for j in V] for i in V]\n",
    "sum_c = 0\n",
    "for rows in c:\n",
    "    sum_c += sum(rows)\n",
    "capacity = math.ceil((sum(d))/M)\n",
    "\n",
    "# M = math.ceil(sum(d)/capacity)\n",
    "# print(M)"
   ]
  },
  {
   "cell_type": "code",
   "execution_count": 391,
   "id": "466e9dfe",
   "metadata": {},
   "outputs": [],
   "source": [
    "def TSP_tour_cost(y,c,N):\n",
    "    y.append(y[0])\n",
    "    cost = 0\n",
    "    for i in range(N):\n",
    "        cost += c[y[i]][y[i+1]]\n",
    "    y.pop(-1)\n",
    "    return cost\n",
    "\n",
    "\n",
    "def TSP_tour_plot(y,location,N):\n",
    "    y.append(y[0])\n",
    "    for i in range(N):\n",
    "        plt.plot([location[y[i]][0], location[y[i+1]][0]],[location[y[i]][1], location[y[i+1]][1]],'r')\n",
    "#     plt.show()\n",
    "    y.pop(-1)\n",
    "\n",
    "# print(TSP_tour_cost(y,c,N))\n",
    "# TSP_tour_plot(y,location,N)\n",
    "\n",
    "def TSP_onestep_opt2(y,c,N):\n",
    "    y.append(y[0])\n",
    "    for i in range(N-2):\n",
    "        for j in range(i+2,N):\n",
    "            total_distance_pre = c[y[i]][y[i+1]] + c[y[j]][y[j+1]]\n",
    "            total_distance_post = c[y[i]][y[j]] + c[y[i+1]][y[j+1]]\n",
    "            # print(y[i],y[i+1],y[j],y[j+1],total_distance_pre-total_distance_post)\n",
    "            if total_distance_post < total_distance_pre:\n",
    "                for k in range(math.ceil(((j-1-i)/2))):\n",
    "                    temp = y[i+1+k]\n",
    "                    y[i+1+k] = y[j-k]\n",
    "                    y[j-k] = temp\n",
    "                y.pop(-1)\n",
    "                return (1,y)\n",
    "    y.pop(-1)\n",
    "    return (0,y)\n",
    "\n",
    "def TSP_opt2(y,c,N,max_iter):\n",
    "    cost_record = []\n",
    "    for i in range(max_iter):\n",
    "        (label,y) = TSP_onestep_opt2(y,c,N)\n",
    "        cost_record.append(TSP_tour_cost(y,c,N))\n",
    "        if label == 0:\n",
    "            break\n",
    "    return (cost_record, y)"
   ]
  },
  {
   "cell_type": "code",
   "execution_count": 392,
   "id": "13657393",
   "metadata": {},
   "outputs": [
    {
     "name": "stdout",
     "output_type": "stream",
     "text": [
      "[3 2 1 5 4 7 6 8]\n",
      "{2, 3}\n",
      "{1, 4, 5, 6, 7, 8}\n"
     ]
    }
   ],
   "source": [
    "customer_permutation = np.random.permutation(N) + 1\n",
    "print(customer_permutation)\n",
    "seed_customer = set(customer_permutation[0:M])\n",
    "print(seed_customer)\n",
    "other_customer = V - {0} - seed_customer\n",
    "print(other_customer)\n"
   ]
  },
  {
   "cell_type": "code",
   "execution_count": 393,
   "id": "c79ce9a6",
   "metadata": {},
   "outputs": [
    {
     "name": "stdout",
     "output_type": "stream",
     "text": [
      "{(1, 2): 15222, (1, 3): 41129, (4, 2): 39852, (4, 3): 17623, (5, 2): 583, (5, 3): 35020, (6, 2): 13596, (6, 3): 6585, (7, 2): 38617, (7, 3): 12, (8, 2): 44196, (8, 3): 35086}\n"
     ]
    }
   ],
   "source": [
    "allocating_cost = {}\n",
    "for i in other_customer:\n",
    "    for m in seed_customer:\n",
    "        allocating_cost[i,m] = min(c[0][i] + c[i][m] + c[m][0], c[0][m] + c[m][i] + c[i][0]) - (c[0][m] + c[m][0])\n",
    "        allocating_cost[i,m] = round(allocating_cost[i,m]*1000)\n",
    "\n",
    "print(allocating_cost)"
   ]
  },
  {
   "cell_type": "code",
   "execution_count": 394,
   "id": "6d78fac0",
   "metadata": {},
   "outputs": [
    {
     "name": "stdout",
     "output_type": "stream",
     "text": [
      "Cost:\n",
      "165870\n",
      "\n",
      "FlowDict:\n",
      "{2: {1: 3, 4: 0, 5: 2, 6: 1, 7: 0, 8: 0, 0: 0}, 3: {1: 0, 4: 2, 5: 0, 6: 0, 7: 2, 8: 2, 0: 0}, 1: {}, 4: {}, 5: {}, 6: {}, 7: {}, 8: {}, 0: {}}\n",
      "2 1 3\n",
      "2 5 2\n",
      "2 6 1\n",
      "3 4 2\n",
      "3 7 2\n",
      "3 8 2\n"
     ]
    }
   ],
   "source": [
    "import networkx as nx\n",
    "G = nx.DiGraph()\n",
    "\n",
    "for m in seed_customer:\n",
    "    G.add_node(m,demand = -(capacity - d[m]))\n",
    "for i in other_customer:\n",
    "    G.add_node(i, demand = d[i])\n",
    "\n",
    "for i in other_customer:\n",
    "    for m in seed_customer:\n",
    "        G.add_edge(m,i,weight = allocating_cost[i,m])\n",
    "G.add_node(0,demand = capacity*M - sum(d))\n",
    "for m in seed_customer:\n",
    "    G.add_edge(m,0,weight = 0)\n",
    "\n",
    "flowCost,flowDict = nx.network_simplex(G)\n",
    "\n",
    "print('Cost:')\n",
    "print(flowCost)\n",
    "print()\n",
    "print('FlowDict:')\n",
    "print(flowDict)\n",
    "\n",
    "for m in seed_customer:\n",
    "    for i in other_customer:\n",
    "        if flowDict[m][i] > 0.1:\n",
    "            print(m,i,flowDict[m][i])\n"
   ]
  },
  {
   "cell_type": "code",
   "execution_count": 395,
   "id": "232de47d",
   "metadata": {},
   "outputs": [
    {
     "name": "stdout",
     "output_type": "stream",
     "text": [
      "[[0, 2, 1, 5, 6], [0, 3, 4, 7, 8]]\n"
     ]
    }
   ],
   "source": [
    "group = []\n",
    "for m in seed_customer:\n",
    "    subgroup = [0,m]\n",
    "    for i in other_customer:\n",
    "        if flowDict[m][i] > 0.1:\n",
    "            subgroup.append(i)\n",
    "    group.append(subgroup)\n",
    "print(group)"
   ]
  },
  {
   "cell_type": "code",
   "execution_count": 396,
   "id": "a12c222a",
   "metadata": {},
   "outputs": [],
   "source": [
    "c_group = []\n",
    "location_group = []\n",
    "for subgroup in group:\n",
    "    c_group.append([[c[i][j] for j in subgroup] for i in subgroup])\n",
    "    location_group.append([location[i] for i in subgroup])"
   ]
  },
  {
   "cell_type": "code",
   "execution_count": 397,
   "id": "00bdc387",
   "metadata": {},
   "outputs": [
    {
     "data": {
      "image/png": "[encoded data removed]",
      "text/plain": [
       "<Figure size 432x288 with 1 Axes>"
      ]
     },
     "metadata": {
      "needs_background": "light"
     },
     "output_type": "display_data"
    },
    {
     "name": "stdout",
     "output_type": "stream",
     "text": [
      "167.6070837829808\n"
     ]
    }
   ],
   "source": [
    "max_iter = 100000\n",
    "total_cost = 0\n",
    "for m in range(M):\n",
    "    sub_node = group[m]\n",
    "    sub_N = len(sub_node)\n",
    "    sub_c = c_group[m]\n",
    "    sub_y = list(range(sub_N))\n",
    "    sub_location = location_group[m]\n",
    "    cost_record, sub_y = TSP_opt2(sub_y, sub_c,sub_N, max_iter)\n",
    "    TSP_tour_plot(sub_y,sub_location,sub_N)\n",
    "    total_cost += cost_record[-1]\n",
    "\n",
    "for i in V-{0}:\n",
    "    plt.scatter(location[i][0],location[i][1],d[i]*20,'b')\n",
    "plt.show()\n",
    "print(total_cost)"
   ]
  },
  {
   "cell_type": "code",
   "execution_count": null,
   "id": "036e0a94",
   "metadata": {},
   "outputs": [],
   "source": []
  }
 ],
 "metadata": {
  "kernelspec": {
   "display_name": "Python 3 (ipykernel)",
   "language": "python",
   "name": "python3"
  },
  "language_info": {
   "codemirror_mode": {
    "name": "ipython",
    "version": 3
   },
   "file_extension": ".py",
   "mimetype": "text/x-python",
   "name": "python",
   "nbconvert_exporter": "python",
   "pygments_lexer": "ipython3",
   "version": "3.10.1"
  },
  "vscode": {
   "interpreter": {
    "hash": "fbc768028c3e6ead51d9a200ddcb2ec858ae62844dcd1994729a8279be9b48f2"
   }
  }
 },
 "nbformat": 4,
 "nbformat_minor": 5
}
